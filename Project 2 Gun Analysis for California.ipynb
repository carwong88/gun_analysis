{
 "cells": [
  {
   "cell_type": "markdown",
   "metadata": {},
   "source": [
    "# <center>Project 2: Gun Analysis in California<br><span style=\"font-size: 12px\">Udacity Data Analytic Nanodegree Project 2 - Investigate a Dataset</span></center>\n",
    "\n",
    "## Table of Contents<a id='toc'></a>\n",
    "* <a href=\"#intro\">Introduction</a>\n",
    "* <a href=\"#wrangling\">Data Wrangling</a>\n",
    "    * <a href=\"#f1\">Data Cleaning File 'gun_data.xlsx'</a>\n",
    "    * <a href=\"#f2\">Data Cleaning File 'U.S. Census Data.csv'</a>  \n",
    "* <a href=\"#eda\">Exploratory Data Analysis</a>\n",
    "    * <a href=\"#q1\">Q1: How Many Permits are Issued for Each Type of Gun in California?</a>\n",
    "    * <a href=\"#q2\">Q2: What is the trend of gun permit and background checks in California?</a>\n",
    "    * <a href=\"#q3\">Q3: How is The Growth of Gun Permit  in Relationship to the Growth of The Population?</a>\n",
    "* <a href=\"#conclusions\">Conclusions</a>\n",
    "* <a href=\"#resources\">Resources</a>"
   ]
  },
  {
   "cell_type": "markdown",
   "metadata": {},
   "source": [
    "## Introduction <a id='intro'></a><a href=\"#toc\"><span style=\"font-size: 12px\">[TOC]</span></a>\n",
    "\n",
    "The goal of this analysis is to take a deeper look into the gun permits issuing in California and whether it is related to the growth of the population. For this analysis, two datasets are used:\n",
    "1. 'gun_data.xlsx': This data comes from the FBI's National Instant Criminal Background Check System (NICS). It is used to determine whether a prospective buyer is eligible to buy firearms or explosives. Gun shops call into this system to ensure that each customer does not have a criminal record or isn’t otherwise ineligible to make a purchase. It contains the number of firearm checks by month, state, and type.\n",
    "2. 'U.S. Census Data.csv': This is the U.S. census data. It contains several variables at the state level.\n",
    "\n",
    "**Analysis Questions**\n",
    "1. How Many Permits are Issued for Each Type of Gun in California?\n",
    "2. What is the trend of gun permit and background checks in California?\n",
    "3. How is The Growth of Gun Permit  in Relationship to the Growth of The Population?"
   ]
  },
  {
   "cell_type": "markdown",
   "metadata": {},
   "source": [
    "## Data Wrangling <a id='wrangling'></a><a href=\"#toc\"><span style=\"font-size: 12px\">[TOC]</span></a>"
   ]
  },
  {
   "cell_type": "code",
   "execution_count": 1268,
   "metadata": {},
   "outputs": [],
   "source": [
    "import pandas as pd\n",
    "import numpy as np\n",
    "import matplotlib.pyplot as plt\n",
    "import seaborn as sns\n",
    "\n",
    "%matplotlib inline"
   ]
  },
  {
   "cell_type": "markdown",
   "metadata": {},
   "source": [
    "### Data Cleaning File 'gun_data.xlsx' <a id=\"f1\"></a><a href=\"#toc\"><span style=\"font-size: 12px\">[TOC]</span></a>"
   ]
  },
  {
   "cell_type": "code",
   "execution_count": 1269,
   "metadata": {},
   "outputs": [
    {
     "data": {
      "text/plain": [
       "(12485, 27)"
      ]
     },
     "execution_count": 1269,
     "metadata": {},
     "output_type": "execute_result"
    }
   ],
   "source": [
    "# Read in NICS data and convert dates to datetime object\n",
    "df_guns = pd.read_excel('gun_data.xlsx', parse_dates=[0])\n",
    "df_guns.shape"
   ]
  },
  {
   "cell_type": "code",
   "execution_count": 1270,
   "metadata": {},
   "outputs": [
    {
     "data": {
      "text/html": [
       "<div>\n",
       "<style scoped>\n",
       "    .dataframe tbody tr th:only-of-type {\n",
       "        vertical-align: middle;\n",
       "    }\n",
       "\n",
       "    .dataframe tbody tr th {\n",
       "        vertical-align: top;\n",
       "    }\n",
       "\n",
       "    .dataframe thead th {\n",
       "        text-align: right;\n",
       "    }\n",
       "</style>\n",
       "<table border=\"1\" class=\"dataframe\">\n",
       "  <thead>\n",
       "    <tr style=\"text-align: right;\">\n",
       "      <th></th>\n",
       "      <th>month</th>\n",
       "      <th>state</th>\n",
       "      <th>permit</th>\n",
       "      <th>permit_recheck</th>\n",
       "      <th>handgun</th>\n",
       "      <th>long_gun</th>\n",
       "      <th>other</th>\n",
       "      <th>multiple</th>\n",
       "      <th>admin</th>\n",
       "      <th>prepawn_handgun</th>\n",
       "      <th>...</th>\n",
       "      <th>returned_other</th>\n",
       "      <th>rentals_handgun</th>\n",
       "      <th>rentals_long_gun</th>\n",
       "      <th>private_sale_handgun</th>\n",
       "      <th>private_sale_long_gun</th>\n",
       "      <th>private_sale_other</th>\n",
       "      <th>return_to_seller_handgun</th>\n",
       "      <th>return_to_seller_long_gun</th>\n",
       "      <th>return_to_seller_other</th>\n",
       "      <th>totals</th>\n",
       "    </tr>\n",
       "  </thead>\n",
       "  <tbody>\n",
       "    <tr>\n",
       "      <th>0</th>\n",
       "      <td>2017-09-01</td>\n",
       "      <td>Alabama</td>\n",
       "      <td>16717.0</td>\n",
       "      <td>0.0</td>\n",
       "      <td>5734.0</td>\n",
       "      <td>6320.0</td>\n",
       "      <td>221.0</td>\n",
       "      <td>317</td>\n",
       "      <td>0.0</td>\n",
       "      <td>15.0</td>\n",
       "      <td>...</td>\n",
       "      <td>0.0</td>\n",
       "      <td>0.0</td>\n",
       "      <td>0.0</td>\n",
       "      <td>9.0</td>\n",
       "      <td>16.0</td>\n",
       "      <td>3.0</td>\n",
       "      <td>0.0</td>\n",
       "      <td>0.0</td>\n",
       "      <td>3.0</td>\n",
       "      <td>32019</td>\n",
       "    </tr>\n",
       "    <tr>\n",
       "      <th>1</th>\n",
       "      <td>2017-09-01</td>\n",
       "      <td>Alaska</td>\n",
       "      <td>209.0</td>\n",
       "      <td>2.0</td>\n",
       "      <td>2320.0</td>\n",
       "      <td>2930.0</td>\n",
       "      <td>219.0</td>\n",
       "      <td>160</td>\n",
       "      <td>0.0</td>\n",
       "      <td>5.0</td>\n",
       "      <td>...</td>\n",
       "      <td>0.0</td>\n",
       "      <td>0.0</td>\n",
       "      <td>0.0</td>\n",
       "      <td>17.0</td>\n",
       "      <td>24.0</td>\n",
       "      <td>1.0</td>\n",
       "      <td>0.0</td>\n",
       "      <td>0.0</td>\n",
       "      <td>0.0</td>\n",
       "      <td>6303</td>\n",
       "    </tr>\n",
       "  </tbody>\n",
       "</table>\n",
       "<p>2 rows × 27 columns</p>\n",
       "</div>"
      ],
      "text/plain": [
       "       month    state   permit  permit_recheck  handgun  long_gun  other  \\\n",
       "0 2017-09-01  Alabama  16717.0             0.0   5734.0    6320.0  221.0   \n",
       "1 2017-09-01   Alaska    209.0             2.0   2320.0    2930.0  219.0   \n",
       "\n",
       "   multiple  admin  prepawn_handgun  ...  returned_other  rentals_handgun  \\\n",
       "0       317    0.0             15.0  ...             0.0              0.0   \n",
       "1       160    0.0              5.0  ...             0.0              0.0   \n",
       "\n",
       "   rentals_long_gun  private_sale_handgun  private_sale_long_gun  \\\n",
       "0               0.0                   9.0                   16.0   \n",
       "1               0.0                  17.0                   24.0   \n",
       "\n",
       "   private_sale_other  return_to_seller_handgun  return_to_seller_long_gun  \\\n",
       "0                 3.0                       0.0                        0.0   \n",
       "1                 1.0                       0.0                        0.0   \n",
       "\n",
       "   return_to_seller_other  totals  \n",
       "0                     3.0   32019  \n",
       "1                     0.0    6303  \n",
       "\n",
       "[2 rows x 27 columns]"
      ]
     },
     "execution_count": 1270,
     "metadata": {},
     "output_type": "execute_result"
    }
   ],
   "source": [
    "df_guns.head(2)"
   ]
  },
  {
   "cell_type": "code",
   "execution_count": 1271,
   "metadata": {},
   "outputs": [
    {
     "name": "stdout",
     "output_type": "stream",
     "text": [
      "<class 'pandas.core.frame.DataFrame'>\n",
      "RangeIndex: 227 entries, 0 to 226\n",
      "Data columns (total 8 columns):\n",
      " #   Column    Non-Null Count  Dtype         \n",
      "---  ------    --------------  -----         \n",
      " 0   month     227 non-null    datetime64[ns]\n",
      " 1   state     227 non-null    object        \n",
      " 2   permit    227 non-null    float64       \n",
      " 3   handgun   227 non-null    float64       \n",
      " 4   long_gun  227 non-null    float64       \n",
      " 5   other     100 non-null    float64       \n",
      " 6   multiple  227 non-null    int64         \n",
      " 7   totals    227 non-null    int64         \n",
      "dtypes: datetime64[ns](1), float64(4), int64(2), object(1)\n",
      "memory usage: 14.3+ KB\n"
     ]
    }
   ],
   "source": [
    "# Selecte only interested columns and row for \"Californa\"\n",
    "df_guns_cal = df_guns.iloc[:, [0,1,2,4,5,6,7,26]]\n",
    "df_guns_cal = df_guns_cal.loc[df_guns.state == 'California']\n",
    "\n",
    "df_guns_cal.reset_index(inplace=True, drop=True)\n",
    "df_guns_cal.info()"
   ]
  },
  {
   "cell_type": "code",
   "execution_count": 1272,
   "metadata": {},
   "outputs": [
    {
     "name": "stdout",
     "output_type": "stream",
     "text": [
      "<class 'pandas.core.series.Series'>\n",
      "RangeIndex: 227 entries, 0 to 226\n",
      "Series name: totals\n",
      "Non-Null Count  Dtype  \n",
      "--------------  -----  \n",
      "227 non-null    float64\n",
      "dtypes: float64(1)\n",
      "memory usage: 1.9 KB\n"
     ]
    }
   ],
   "source": [
    "# Convert 'tatals' column to float datatype\n",
    "df_guns_cal['totals'] = df_guns_cal['totals'].astype(float)\n",
    "df_guns_cal.totals.info()"
   ]
  },
  {
   "cell_type": "markdown",
   "metadata": {},
   "source": [
    "### Data Cleaning File 'U.S. Census Data.csv' <a id=\"f2\"></a><a href=\"#toc\"><span style=\"font-size: 12px\">[TOC]</span></a>"
   ]
  },
  {
   "cell_type": "code",
   "execution_count": 1273,
   "metadata": {},
   "outputs": [
    {
     "data": {
      "text/plain": [
       "(85, 52)"
      ]
     },
     "execution_count": 1273,
     "metadata": {},
     "output_type": "execute_result"
    }
   ],
   "source": [
    "df_census = pd.read_csv('U.S. Census Data.csv')\n",
    "df_census.shape"
   ]
  },
  {
   "cell_type": "code",
   "execution_count": 1274,
   "metadata": {},
   "outputs": [
    {
     "data": {
      "text/html": [
       "<div>\n",
       "<style scoped>\n",
       "    .dataframe tbody tr th:only-of-type {\n",
       "        vertical-align: middle;\n",
       "    }\n",
       "\n",
       "    .dataframe tbody tr th {\n",
       "        vertical-align: top;\n",
       "    }\n",
       "\n",
       "    .dataframe thead th {\n",
       "        text-align: right;\n",
       "    }\n",
       "</style>\n",
       "<table border=\"1\" class=\"dataframe\">\n",
       "  <thead>\n",
       "    <tr style=\"text-align: right;\">\n",
       "      <th></th>\n",
       "      <th>Fact</th>\n",
       "      <th>California</th>\n",
       "    </tr>\n",
       "  </thead>\n",
       "  <tbody>\n",
       "    <tr>\n",
       "      <th>0</th>\n",
       "      <td>Population estimates, July 1, 2016,  (V2016)</td>\n",
       "      <td>39,250,017</td>\n",
       "    </tr>\n",
       "    <tr>\n",
       "      <th>1</th>\n",
       "      <td>Population estimates base, April 1, 2010,  (V2...</td>\n",
       "      <td>37,254,522</td>\n",
       "    </tr>\n",
       "    <tr>\n",
       "      <th>2</th>\n",
       "      <td>Population, percent change - April 1, 2010 (es...</td>\n",
       "      <td>5.40%</td>\n",
       "    </tr>\n",
       "    <tr>\n",
       "      <th>3</th>\n",
       "      <td>Population, Census, April 1, 2010</td>\n",
       "      <td>37,253,956</td>\n",
       "    </tr>\n",
       "    <tr>\n",
       "      <th>4</th>\n",
       "      <td>Persons under 5 years, percent, July 1, 2016, ...</td>\n",
       "      <td>6.30%</td>\n",
       "    </tr>\n",
       "    <tr>\n",
       "      <th>...</th>\n",
       "      <td>...</td>\n",
       "      <td>...</td>\n",
       "    </tr>\n",
       "    <tr>\n",
       "      <th>80</th>\n",
       "      <td>FN</td>\n",
       "      <td>NaN</td>\n",
       "    </tr>\n",
       "    <tr>\n",
       "      <th>81</th>\n",
       "      <td>NaN</td>\n",
       "      <td>NaN</td>\n",
       "    </tr>\n",
       "    <tr>\n",
       "      <th>82</th>\n",
       "      <td>S</td>\n",
       "      <td>NaN</td>\n",
       "    </tr>\n",
       "    <tr>\n",
       "      <th>83</th>\n",
       "      <td>X</td>\n",
       "      <td>NaN</td>\n",
       "    </tr>\n",
       "    <tr>\n",
       "      <th>84</th>\n",
       "      <td>Z</td>\n",
       "      <td>NaN</td>\n",
       "    </tr>\n",
       "  </tbody>\n",
       "</table>\n",
       "<p>85 rows × 2 columns</p>\n",
       "</div>"
      ],
      "text/plain": [
       "                                                 Fact  California\n",
       "0        Population estimates, July 1, 2016,  (V2016)  39,250,017\n",
       "1   Population estimates base, April 1, 2010,  (V2...  37,254,522\n",
       "2   Population, percent change - April 1, 2010 (es...       5.40%\n",
       "3                   Population, Census, April 1, 2010  37,253,956\n",
       "4   Persons under 5 years, percent, July 1, 2016, ...       6.30%\n",
       "..                                                ...         ...\n",
       "80                                                 FN         NaN\n",
       "81                                                NaN         NaN\n",
       "82                                                  S         NaN\n",
       "83                                                  X         NaN\n",
       "84                                                  Z         NaN\n",
       "\n",
       "[85 rows x 2 columns]"
      ]
     },
     "execution_count": 1274,
     "metadata": {},
     "output_type": "execute_result"
    }
   ],
   "source": [
    "# Select census data for California\n",
    "df_census_cal = df_census.loc[:, ['Fact','California']]\n",
    "df_census_cal"
   ]
  },
  {
   "cell_type": "code",
   "execution_count": 1275,
   "metadata": {},
   "outputs": [
    {
     "data": {
      "text/html": [
       "<div>\n",
       "<style scoped>\n",
       "    .dataframe tbody tr th:only-of-type {\n",
       "        vertical-align: middle;\n",
       "    }\n",
       "\n",
       "    .dataframe tbody tr th {\n",
       "        vertical-align: top;\n",
       "    }\n",
       "\n",
       "    .dataframe thead th {\n",
       "        text-align: right;\n",
       "    }\n",
       "</style>\n",
       "<table border=\"1\" class=\"dataframe\">\n",
       "  <thead>\n",
       "    <tr style=\"text-align: right;\">\n",
       "      <th></th>\n",
       "      <th>Fact</th>\n",
       "      <th>California</th>\n",
       "    </tr>\n",
       "  </thead>\n",
       "  <tbody>\n",
       "    <tr>\n",
       "      <th>0</th>\n",
       "      <td>Population estimates, July 1, 2016,  (V2016)</td>\n",
       "      <td>39,250,017</td>\n",
       "    </tr>\n",
       "    <tr>\n",
       "      <th>1</th>\n",
       "      <td>Population estimates base, April 1, 2010,  (V2...</td>\n",
       "      <td>37,254,522</td>\n",
       "    </tr>\n",
       "    <tr>\n",
       "      <th>2</th>\n",
       "      <td>Population, percent change - April 1, 2010 (es...</td>\n",
       "      <td>5.40%</td>\n",
       "    </tr>\n",
       "    <tr>\n",
       "      <th>3</th>\n",
       "      <td>Population, Census, April 1, 2010</td>\n",
       "      <td>37,253,956</td>\n",
       "    </tr>\n",
       "    <tr>\n",
       "      <th>4</th>\n",
       "      <td>Persons under 5 years, percent, July 1, 2016, ...</td>\n",
       "      <td>6.30%</td>\n",
       "    </tr>\n",
       "    <tr>\n",
       "      <th>...</th>\n",
       "      <td>...</td>\n",
       "      <td>...</td>\n",
       "    </tr>\n",
       "    <tr>\n",
       "      <th>60</th>\n",
       "      <td>Veteran-owned firms, 2012</td>\n",
       "      <td>252,377</td>\n",
       "    </tr>\n",
       "    <tr>\n",
       "      <th>61</th>\n",
       "      <td>Nonveteran-owned firms, 2012</td>\n",
       "      <td>3,176,341</td>\n",
       "    </tr>\n",
       "    <tr>\n",
       "      <th>62</th>\n",
       "      <td>Population per square mile, 2010</td>\n",
       "      <td>239.1</td>\n",
       "    </tr>\n",
       "    <tr>\n",
       "      <th>63</th>\n",
       "      <td>Land area in square miles, 2010</td>\n",
       "      <td>155,779.22</td>\n",
       "    </tr>\n",
       "    <tr>\n",
       "      <th>64</th>\n",
       "      <td>FIPS Code</td>\n",
       "      <td>\"06\"</td>\n",
       "    </tr>\n",
       "  </tbody>\n",
       "</table>\n",
       "<p>65 rows × 2 columns</p>\n",
       "</div>"
      ],
      "text/plain": [
       "                                                 Fact  California\n",
       "0        Population estimates, July 1, 2016,  (V2016)  39,250,017\n",
       "1   Population estimates base, April 1, 2010,  (V2...  37,254,522\n",
       "2   Population, percent change - April 1, 2010 (es...       5.40%\n",
       "3                   Population, Census, April 1, 2010  37,253,956\n",
       "4   Persons under 5 years, percent, July 1, 2016, ...       6.30%\n",
       "..                                                ...         ...\n",
       "60                          Veteran-owned firms, 2012     252,377\n",
       "61                       Nonveteran-owned firms, 2012   3,176,341\n",
       "62                   Population per square mile, 2010       239.1\n",
       "63                    Land area in square miles, 2010  155,779.22\n",
       "64                                          FIPS Code        \"06\"\n",
       "\n",
       "[65 rows x 2 columns]"
      ]
     },
     "execution_count": 1275,
     "metadata": {},
     "output_type": "execute_result"
    }
   ],
   "source": [
    "# Remove rows with NaN\n",
    "df_census_cal.dropna(inplace=True)\n",
    "df_census_cal"
   ]
  },
  {
   "cell_type": "code",
   "execution_count": 1276,
   "metadata": {},
   "outputs": [
    {
     "data": {
      "text/html": [
       "<div>\n",
       "<style scoped>\n",
       "    .dataframe tbody tr th:only-of-type {\n",
       "        vertical-align: middle;\n",
       "    }\n",
       "\n",
       "    .dataframe tbody tr th {\n",
       "        vertical-align: top;\n",
       "    }\n",
       "\n",
       "    .dataframe thead th {\n",
       "        text-align: right;\n",
       "    }\n",
       "</style>\n",
       "<table border=\"1\" class=\"dataframe\">\n",
       "  <thead>\n",
       "    <tr style=\"text-align: right;\">\n",
       "      <th></th>\n",
       "      <th>Fact</th>\n",
       "      <th>California</th>\n",
       "    </tr>\n",
       "  </thead>\n",
       "  <tbody>\n",
       "    <tr>\n",
       "      <th>0</th>\n",
       "      <td>Population estimates, July 1, 2016,  (V2016)</td>\n",
       "      <td>39,250,017</td>\n",
       "    </tr>\n",
       "    <tr>\n",
       "      <th>1</th>\n",
       "      <td>Population estimates base, April 1, 2010,  (V2...</td>\n",
       "      <td>37,254,522</td>\n",
       "    </tr>\n",
       "    <tr>\n",
       "      <th>2</th>\n",
       "      <td>Population, Census, April 1, 2010</td>\n",
       "      <td>37,253,956</td>\n",
       "    </tr>\n",
       "  </tbody>\n",
       "</table>\n",
       "</div>"
      ],
      "text/plain": [
       "                                                Fact  California\n",
       "0       Population estimates, July 1, 2016,  (V2016)  39,250,017\n",
       "1  Population estimates base, April 1, 2010,  (V2...  37,254,522\n",
       "2                  Population, Census, April 1, 2010  37,253,956"
      ]
     },
     "execution_count": 1276,
     "metadata": {},
     "output_type": "execute_result"
    }
   ],
   "source": [
    "# Select only rows contain population\n",
    "df_census_cal_pop = df_census_cal.loc[\n",
    "    df_census_cal.Fact.str.contains('Population estimates') | \n",
    "    df_census_cal.Fact.str.contains('Population, Census')].copy(deep=True)\n",
    "df_census_cal_pop.reset_index(inplace=True, drop=True)\n",
    "df_census_cal_pop"
   ]
  },
  {
   "cell_type": "code",
   "execution_count": 1277,
   "metadata": {},
   "outputs": [
    {
     "data": {
      "text/plain": [
       "array(['Population estimates, July 1, 2016,  (V2016)',\n",
       "       'Population estimates base, April 1, 2010,  (V2016)',\n",
       "       'Population, Census, April 1, 2010'], dtype=object)"
      ]
     },
     "execution_count": 1277,
     "metadata": {},
     "output_type": "execute_result"
    }
   ],
   "source": [
    "# Check data in the Fact column\n",
    "df_census_cal_pop.Fact.unique()"
   ]
  },
  {
   "cell_type": "code",
   "execution_count": 1278,
   "metadata": {},
   "outputs": [
    {
     "data": {
      "text/html": [
       "<div>\n",
       "<style scoped>\n",
       "    .dataframe tbody tr th:only-of-type {\n",
       "        vertical-align: middle;\n",
       "    }\n",
       "\n",
       "    .dataframe tbody tr th {\n",
       "        vertical-align: top;\n",
       "    }\n",
       "\n",
       "    .dataframe thead th {\n",
       "        text-align: right;\n",
       "    }\n",
       "</style>\n",
       "<table border=\"1\" class=\"dataframe\">\n",
       "  <thead>\n",
       "    <tr style=\"text-align: right;\">\n",
       "      <th></th>\n",
       "      <th>Fact</th>\n",
       "      <th>California</th>\n",
       "      <th>date</th>\n",
       "    </tr>\n",
       "  </thead>\n",
       "  <tbody>\n",
       "    <tr>\n",
       "      <th>0</th>\n",
       "      <td>Population estimates, July 1, 2016,  (V2016)</td>\n",
       "      <td>39,250,017</td>\n",
       "      <td>2016-07-01</td>\n",
       "    </tr>\n",
       "    <tr>\n",
       "      <th>1</th>\n",
       "      <td>Population estimates base, April 1, 2010,  (V2...</td>\n",
       "      <td>37,254,522</td>\n",
       "      <td>2010-04-01</td>\n",
       "    </tr>\n",
       "    <tr>\n",
       "      <th>2</th>\n",
       "      <td>Population, Census, April 1, 2010</td>\n",
       "      <td>37,253,956</td>\n",
       "      <td>2010-04-01</td>\n",
       "    </tr>\n",
       "  </tbody>\n",
       "</table>\n",
       "</div>"
      ],
      "text/plain": [
       "                                                Fact  California       date\n",
       "0       Population estimates, July 1, 2016,  (V2016)  39,250,017 2016-07-01\n",
       "1  Population estimates base, April 1, 2010,  (V2...  37,254,522 2010-04-01\n",
       "2                  Population, Census, April 1, 2010  37,253,956 2010-04-01"
      ]
     },
     "execution_count": 1278,
     "metadata": {},
     "output_type": "execute_result"
    }
   ],
   "source": [
    "# Add a column for date\n",
    "mask = df_census_cal_pop.Fact.str.contains('July 1, 2016')\n",
    "df_census_cal_pop.loc[mask, 'date'] = datetime.datetime(2016, 7, 1)\n",
    "\n",
    "mask = df_census_cal_pop.Fact.str.contains('April 1, 2010')\n",
    "df_census_cal_pop.loc[mask, 'date'] = datetime.datetime(2010, 4, 1)\n",
    "\n",
    "df_census_cal_pop"
   ]
  },
  {
   "cell_type": "code",
   "execution_count": 1279,
   "metadata": {},
   "outputs": [
    {
     "name": "stdout",
     "output_type": "stream",
     "text": [
      "<class 'pandas.core.series.Series'>\n",
      "RangeIndex: 3 entries, 0 to 2\n",
      "Series name: California\n",
      "Non-Null Count  Dtype  \n",
      "--------------  -----  \n",
      "3 non-null      float64\n",
      "dtypes: float64(1)\n",
      "memory usage: 152.0 bytes\n"
     ]
    }
   ],
   "source": [
    "# Change the number strings to float\n",
    "df_census_cal_pop['California'] = df_census_cal_pop['California'].str.replace(',','')\n",
    "df_census_cal_pop['California'] = df_census_cal_pop['California'].str.replace('%','')\n",
    "df_census_cal_pop['California'] = df_census_cal_pop.California.astype('float')\n",
    "df_census_cal_pop['California'].info()"
   ]
  },
  {
   "cell_type": "code",
   "execution_count": 1280,
   "metadata": {},
   "outputs": [
    {
     "data": {
      "text/html": [
       "<div>\n",
       "<style scoped>\n",
       "    .dataframe tbody tr th:only-of-type {\n",
       "        vertical-align: middle;\n",
       "    }\n",
       "\n",
       "    .dataframe tbody tr th {\n",
       "        vertical-align: top;\n",
       "    }\n",
       "\n",
       "    .dataframe thead th {\n",
       "        text-align: right;\n",
       "    }\n",
       "</style>\n",
       "<table border=\"1\" class=\"dataframe\">\n",
       "  <thead>\n",
       "    <tr style=\"text-align: right;\">\n",
       "      <th></th>\n",
       "      <th>Fact</th>\n",
       "      <th>California</th>\n",
       "      <th>date</th>\n",
       "    </tr>\n",
       "  </thead>\n",
       "  <tbody>\n",
       "    <tr>\n",
       "      <th>0</th>\n",
       "      <td>Population estimates, July 1, 2016,  (V2016)</td>\n",
       "      <td>39250017.0</td>\n",
       "      <td>2016-07-01</td>\n",
       "    </tr>\n",
       "    <tr>\n",
       "      <th>1</th>\n",
       "      <td>Population estimates base, April 1, 2010,  (V2...</td>\n",
       "      <td>37254522.0</td>\n",
       "      <td>2010-04-01</td>\n",
       "    </tr>\n",
       "    <tr>\n",
       "      <th>2</th>\n",
       "      <td>Population, Census, April 1, 2010</td>\n",
       "      <td>37253956.0</td>\n",
       "      <td>2010-04-01</td>\n",
       "    </tr>\n",
       "  </tbody>\n",
       "</table>\n",
       "</div>"
      ],
      "text/plain": [
       "                                                Fact  California       date\n",
       "0       Population estimates, July 1, 2016,  (V2016)  39250017.0 2016-07-01\n",
       "1  Population estimates base, April 1, 2010,  (V2...  37254522.0 2010-04-01\n",
       "2                  Population, Census, April 1, 2010  37253956.0 2010-04-01"
      ]
     },
     "execution_count": 1280,
     "metadata": {},
     "output_type": "execute_result"
    }
   ],
   "source": [
    "df_census_cal_pop"
   ]
  },
  {
   "cell_type": "markdown",
   "metadata": {},
   "source": [
    "## Exploratory Data Analysis <a id='eda'></a><a href=\"#toc\"><span style=\"font-size: 12px\">[TOC]</span></a>"
   ]
  },
  {
   "cell_type": "markdown",
   "metadata": {},
   "source": [
    "### Q1: How Many Permits are Issued for Each Type of Gun in California? <a id=\"q1\"></a><a href=\"#toc\"><span style=\"font-size: 12px\">[TOC]</span></a>"
   ]
  },
  {
   "cell_type": "code",
   "execution_count": 1281,
   "metadata": {},
   "outputs": [
    {
     "data": {
      "text/html": [
       "<div>\n",
       "<style scoped>\n",
       "    .dataframe tbody tr th:only-of-type {\n",
       "        vertical-align: middle;\n",
       "    }\n",
       "\n",
       "    .dataframe tbody tr th {\n",
       "        vertical-align: top;\n",
       "    }\n",
       "\n",
       "    .dataframe thead th {\n",
       "        text-align: right;\n",
       "    }\n",
       "</style>\n",
       "<table border=\"1\" class=\"dataframe\">\n",
       "  <thead>\n",
       "    <tr style=\"text-align: right;\">\n",
       "      <th></th>\n",
       "      <th>month</th>\n",
       "      <th>state</th>\n",
       "      <th>permit</th>\n",
       "      <th>handgun</th>\n",
       "      <th>long_gun</th>\n",
       "      <th>other</th>\n",
       "      <th>multiple</th>\n",
       "      <th>totals</th>\n",
       "    </tr>\n",
       "  </thead>\n",
       "  <tbody>\n",
       "    <tr>\n",
       "      <th>9</th>\n",
       "      <td>2016-12-01</td>\n",
       "      <td>California</td>\n",
       "      <td>61808.0</td>\n",
       "      <td>63649.0</td>\n",
       "      <td>93224.0</td>\n",
       "      <td>77929.0</td>\n",
       "      <td>0</td>\n",
       "      <td>298161.0</td>\n",
       "    </tr>\n",
       "    <tr>\n",
       "      <th>10</th>\n",
       "      <td>2016-11-01</td>\n",
       "      <td>California</td>\n",
       "      <td>53278.0</td>\n",
       "      <td>56932.0</td>\n",
       "      <td>82554.0</td>\n",
       "      <td>30133.0</td>\n",
       "      <td>0</td>\n",
       "      <td>224039.0</td>\n",
       "    </tr>\n",
       "    <tr>\n",
       "      <th>11</th>\n",
       "      <td>2016-10-01</td>\n",
       "      <td>California</td>\n",
       "      <td>60578.0</td>\n",
       "      <td>45785.0</td>\n",
       "      <td>54333.0</td>\n",
       "      <td>19226.0</td>\n",
       "      <td>0</td>\n",
       "      <td>180968.0</td>\n",
       "    </tr>\n",
       "  </tbody>\n",
       "</table>\n",
       "</div>"
      ],
      "text/plain": [
       "        month       state   permit  handgun  long_gun    other  multiple  \\\n",
       "9  2016-12-01  California  61808.0  63649.0   93224.0  77929.0         0   \n",
       "10 2016-11-01  California  53278.0  56932.0   82554.0  30133.0         0   \n",
       "11 2016-10-01  California  60578.0  45785.0   54333.0  19226.0         0   \n",
       "\n",
       "      totals  \n",
       "9   298161.0  \n",
       "10  224039.0  \n",
       "11  180968.0  "
      ]
     },
     "execution_count": 1281,
     "metadata": {},
     "output_type": "execute_result"
    }
   ],
   "source": [
    "# Remove year 2017 rows, it doesn't contain a full year data; contain only up to September 2017\n",
    "rows_2017 = df_guns_cal[df_guns_cal.month.dt.year == 2017].index\n",
    "df_guns_cal.drop(rows_2017, inplace=True)\n",
    "\n",
    "df_guns_cal.head(3)"
   ]
  },
  {
   "cell_type": "code",
   "execution_count": 1282,
   "metadata": {},
   "outputs": [
    {
     "data": {
      "text/html": [
       "<div>\n",
       "<style scoped>\n",
       "    .dataframe tbody tr th:only-of-type {\n",
       "        vertical-align: middle;\n",
       "    }\n",
       "\n",
       "    .dataframe tbody tr th {\n",
       "        vertical-align: top;\n",
       "    }\n",
       "\n",
       "    .dataframe thead th {\n",
       "        text-align: right;\n",
       "    }\n",
       "</style>\n",
       "<table border=\"1\" class=\"dataframe\">\n",
       "  <thead>\n",
       "    <tr style=\"text-align: right;\">\n",
       "      <th></th>\n",
       "      <th>month</th>\n",
       "      <th>state</th>\n",
       "      <th>permit</th>\n",
       "      <th>handgun</th>\n",
       "      <th>long_gun</th>\n",
       "      <th>other</th>\n",
       "      <th>multiple</th>\n",
       "      <th>totals</th>\n",
       "    </tr>\n",
       "  </thead>\n",
       "  <tbody>\n",
       "    <tr>\n",
       "      <th>222</th>\n",
       "      <td>1999-03-01</td>\n",
       "      <td>California</td>\n",
       "      <td>7591.0</td>\n",
       "      <td>32639.0</td>\n",
       "      <td>28097.0</td>\n",
       "      <td>NaN</td>\n",
       "      <td>0</td>\n",
       "      <td>68327.0</td>\n",
       "    </tr>\n",
       "    <tr>\n",
       "      <th>223</th>\n",
       "      <td>1999-02-01</td>\n",
       "      <td>California</td>\n",
       "      <td>5715.0</td>\n",
       "      <td>27909.0</td>\n",
       "      <td>23847.0</td>\n",
       "      <td>NaN</td>\n",
       "      <td>0</td>\n",
       "      <td>57471.0</td>\n",
       "    </tr>\n",
       "    <tr>\n",
       "      <th>224</th>\n",
       "      <td>1999-01-01</td>\n",
       "      <td>California</td>\n",
       "      <td>7311.0</td>\n",
       "      <td>25989.0</td>\n",
       "      <td>23653.0</td>\n",
       "      <td>NaN</td>\n",
       "      <td>0</td>\n",
       "      <td>56953.0</td>\n",
       "    </tr>\n",
       "  </tbody>\n",
       "</table>\n",
       "</div>"
      ],
      "text/plain": [
       "         month       state  permit  handgun  long_gun  other  multiple  \\\n",
       "222 1999-03-01  California  7591.0  32639.0   28097.0    NaN         0   \n",
       "223 1999-02-01  California  5715.0  27909.0   23847.0    NaN         0   \n",
       "224 1999-01-01  California  7311.0  25989.0   23653.0    NaN         0   \n",
       "\n",
       "      totals  \n",
       "222  68327.0  \n",
       "223  57471.0  \n",
       "224  56953.0  "
      ]
     },
     "execution_count": 1282,
     "metadata": {},
     "output_type": "execute_result"
    }
   ],
   "source": [
    "# Remove year 1998 rows, it doesn't contain a full year data; only contain Nov and Dec data\n",
    "rows_1998 = df_guns_cal[df_guns_cal.month.dt.year == 1998].index\n",
    "df_guns_cal.drop(rows_1998, inplace=True)\n",
    "\n",
    "df_guns_cal.tail(3)"
   ]
  },
  {
   "cell_type": "code",
   "execution_count": 1283,
   "metadata": {},
   "outputs": [
    {
     "data": {
      "text/html": [
       "<div>\n",
       "<style scoped>\n",
       "    .dataframe tbody tr th:only-of-type {\n",
       "        vertical-align: middle;\n",
       "    }\n",
       "\n",
       "    .dataframe tbody tr th {\n",
       "        vertical-align: top;\n",
       "    }\n",
       "\n",
       "    .dataframe thead th {\n",
       "        text-align: right;\n",
       "    }\n",
       "</style>\n",
       "<table border=\"1\" class=\"dataframe\">\n",
       "  <thead>\n",
       "    <tr style=\"text-align: right;\">\n",
       "      <th></th>\n",
       "      <th>month</th>\n",
       "      <th>state</th>\n",
       "      <th>permit</th>\n",
       "      <th>handgun</th>\n",
       "      <th>long gun</th>\n",
       "      <th>other</th>\n",
       "      <th>multiple</th>\n",
       "      <th>background check</th>\n",
       "    </tr>\n",
       "  </thead>\n",
       "  <tbody>\n",
       "    <tr>\n",
       "      <th>9</th>\n",
       "      <td>2016-12-01</td>\n",
       "      <td>California</td>\n",
       "      <td>61808.0</td>\n",
       "      <td>63649.0</td>\n",
       "      <td>93224.0</td>\n",
       "      <td>77929.0</td>\n",
       "      <td>0</td>\n",
       "      <td>298161.0</td>\n",
       "    </tr>\n",
       "    <tr>\n",
       "      <th>10</th>\n",
       "      <td>2016-11-01</td>\n",
       "      <td>California</td>\n",
       "      <td>53278.0</td>\n",
       "      <td>56932.0</td>\n",
       "      <td>82554.0</td>\n",
       "      <td>30133.0</td>\n",
       "      <td>0</td>\n",
       "      <td>224039.0</td>\n",
       "    </tr>\n",
       "    <tr>\n",
       "      <th>11</th>\n",
       "      <td>2016-10-01</td>\n",
       "      <td>California</td>\n",
       "      <td>60578.0</td>\n",
       "      <td>45785.0</td>\n",
       "      <td>54333.0</td>\n",
       "      <td>19226.0</td>\n",
       "      <td>0</td>\n",
       "      <td>180968.0</td>\n",
       "    </tr>\n",
       "  </tbody>\n",
       "</table>\n",
       "</div>"
      ],
      "text/plain": [
       "        month       state   permit  handgun  long gun    other  multiple  \\\n",
       "9  2016-12-01  California  61808.0  63649.0   93224.0  77929.0         0   \n",
       "10 2016-11-01  California  53278.0  56932.0   82554.0  30133.0         0   \n",
       "11 2016-10-01  California  60578.0  45785.0   54333.0  19226.0         0   \n",
       "\n",
       "    background check  \n",
       "9           298161.0  \n",
       "10          224039.0  \n",
       "11          180968.0  "
      ]
     },
     "execution_count": 1283,
     "metadata": {},
     "output_type": "execute_result"
    }
   ],
   "source": [
    "# Rename column 'totals' to 'background_check'\n",
    "df_guns_cal.columns = ['month', 'state', 'permit', 'handgun', 'long gun', 'other', 'multiple', 'background check']\n",
    "df_guns_cal.head(3)"
   ]
  },
  {
   "cell_type": "code",
   "execution_count": 1284,
   "metadata": {},
   "outputs": [
    {
     "data": {
      "text/html": [
       "<div>\n",
       "<style scoped>\n",
       "    .dataframe tbody tr th:only-of-type {\n",
       "        vertical-align: middle;\n",
       "    }\n",
       "\n",
       "    .dataframe tbody tr th {\n",
       "        vertical-align: top;\n",
       "    }\n",
       "\n",
       "    .dataframe thead th {\n",
       "        text-align: right;\n",
       "    }\n",
       "</style>\n",
       "<table border=\"1\" class=\"dataframe\">\n",
       "  <thead>\n",
       "    <tr style=\"text-align: right;\">\n",
       "      <th></th>\n",
       "      <th>month</th>\n",
       "      <th>state</th>\n",
       "      <th>permit</th>\n",
       "      <th>handgun</th>\n",
       "      <th>long gun</th>\n",
       "      <th>other</th>\n",
       "      <th>multiple</th>\n",
       "      <th>background check</th>\n",
       "    </tr>\n",
       "  </thead>\n",
       "  <tbody>\n",
       "    <tr>\n",
       "      <th>222</th>\n",
       "      <td>1999-03-01</td>\n",
       "      <td>California</td>\n",
       "      <td>7591.0</td>\n",
       "      <td>32639.0</td>\n",
       "      <td>28097.0</td>\n",
       "      <td>3479.384615</td>\n",
       "      <td>0</td>\n",
       "      <td>68327.0</td>\n",
       "    </tr>\n",
       "    <tr>\n",
       "      <th>223</th>\n",
       "      <td>1999-02-01</td>\n",
       "      <td>California</td>\n",
       "      <td>5715.0</td>\n",
       "      <td>27909.0</td>\n",
       "      <td>23847.0</td>\n",
       "      <td>3479.384615</td>\n",
       "      <td>0</td>\n",
       "      <td>57471.0</td>\n",
       "    </tr>\n",
       "    <tr>\n",
       "      <th>224</th>\n",
       "      <td>1999-01-01</td>\n",
       "      <td>California</td>\n",
       "      <td>7311.0</td>\n",
       "      <td>25989.0</td>\n",
       "      <td>23653.0</td>\n",
       "      <td>3479.384615</td>\n",
       "      <td>0</td>\n",
       "      <td>56953.0</td>\n",
       "    </tr>\n",
       "  </tbody>\n",
       "</table>\n",
       "</div>"
      ],
      "text/plain": [
       "         month       state  permit  handgun  long gun        other  multiple  \\\n",
       "222 1999-03-01  California  7591.0  32639.0   28097.0  3479.384615         0   \n",
       "223 1999-02-01  California  5715.0  27909.0   23847.0  3479.384615         0   \n",
       "224 1999-01-01  California  7311.0  25989.0   23653.0  3479.384615         0   \n",
       "\n",
       "     background check  \n",
       "222           68327.0  \n",
       "223           57471.0  \n",
       "224           56953.0  "
      ]
     },
     "execution_count": 1284,
     "metadata": {},
     "output_type": "execute_result"
    }
   ],
   "source": [
    "# Fill NaN with mean\n",
    "df_guns_cal.other = df_guns_cal.other.fillna(df_guns_cal.other.mean())\n",
    "df_guns_cal.tail(3)"
   ]
  },
  {
   "cell_type": "code",
   "execution_count": 1285,
   "metadata": {},
   "outputs": [
    {
     "name": "stdout",
     "output_type": "stream",
     "text": [
      "<class 'pandas.core.frame.DataFrame'>\n",
      "RangeIndex: 216 entries, 9 to 224\n",
      "Data columns (total 8 columns):\n",
      " #   Column            Non-Null Count  Dtype         \n",
      "---  ------            --------------  -----         \n",
      " 0   month             216 non-null    datetime64[ns]\n",
      " 1   state             216 non-null    object        \n",
      " 2   permit            216 non-null    float64       \n",
      " 3   handgun           216 non-null    float64       \n",
      " 4   long gun          216 non-null    float64       \n",
      " 5   other             216 non-null    float64       \n",
      " 6   multiple          216 non-null    int64         \n",
      " 7   background check  216 non-null    float64       \n",
      "dtypes: datetime64[ns](1), float64(5), int64(1), object(1)\n",
      "memory usage: 13.6+ KB\n"
     ]
    }
   ],
   "source": [
    "df_guns_cal.info()"
   ]
  },
  {
   "cell_type": "code",
   "execution_count": 1286,
   "metadata": {},
   "outputs": [
    {
     "data": {
      "text/html": [
       "<div>\n",
       "<style scoped>\n",
       "    .dataframe tbody tr th:only-of-type {\n",
       "        vertical-align: middle;\n",
       "    }\n",
       "\n",
       "    .dataframe tbody tr th {\n",
       "        vertical-align: top;\n",
       "    }\n",
       "\n",
       "    .dataframe thead th {\n",
       "        text-align: right;\n",
       "    }\n",
       "</style>\n",
       "<table border=\"1\" class=\"dataframe\">\n",
       "  <thead>\n",
       "    <tr style=\"text-align: right;\">\n",
       "      <th></th>\n",
       "      <th>year</th>\n",
       "      <th>permit</th>\n",
       "      <th>handgun</th>\n",
       "      <th>long gun</th>\n",
       "      <th>other</th>\n",
       "      <th>multiple</th>\n",
       "      <th>background check</th>\n",
       "    </tr>\n",
       "  </thead>\n",
       "  <tbody>\n",
       "    <tr>\n",
       "      <th>0</th>\n",
       "      <td>1999</td>\n",
       "      <td>101132.0</td>\n",
       "      <td>371893.0</td>\n",
       "      <td>410119.0</td>\n",
       "      <td>41752.615385</td>\n",
       "      <td>0</td>\n",
       "      <td>883144.0</td>\n",
       "    </tr>\n",
       "    <tr>\n",
       "      <th>1</th>\n",
       "      <td>2000</td>\n",
       "      <td>163145.0</td>\n",
       "      <td>328615.0</td>\n",
       "      <td>302746.0</td>\n",
       "      <td>41752.615385</td>\n",
       "      <td>0</td>\n",
       "      <td>794506.0</td>\n",
       "    </tr>\n",
       "    <tr>\n",
       "      <th>2</th>\n",
       "      <td>2001</td>\n",
       "      <td>236271.0</td>\n",
       "      <td>280044.0</td>\n",
       "      <td>338251.0</td>\n",
       "      <td>41752.615385</td>\n",
       "      <td>0</td>\n",
       "      <td>854569.0</td>\n",
       "    </tr>\n",
       "  </tbody>\n",
       "</table>\n",
       "</div>"
      ],
      "text/plain": [
       "   year    permit   handgun  long gun         other  multiple  \\\n",
       "0  1999  101132.0  371893.0  410119.0  41752.615385         0   \n",
       "1  2000  163145.0  328615.0  302746.0  41752.615385         0   \n",
       "2  2001  236271.0  280044.0  338251.0  41752.615385         0   \n",
       "\n",
       "   background check  \n",
       "0          883144.0  \n",
       "1          794506.0  \n",
       "2          854569.0  "
      ]
     },
     "execution_count": 1286,
     "metadata": {},
     "output_type": "execute_result"
    }
   ],
   "source": [
    "# Aggregate gun data by year\n",
    "df_guns_grp = df_guns_cal.groupby([df_guns_cal['month'].dt.year.rename('year')]).sum()\n",
    "df_guns_grp.reset_index(inplace=True)\n",
    "df_guns_grp.head(3)"
   ]
  },
  {
   "cell_type": "code",
   "execution_count": 1287,
   "metadata": {},
   "outputs": [
    {
     "data": {
      "text/html": [
       "<div>\n",
       "<style scoped>\n",
       "    .dataframe tbody tr th:only-of-type {\n",
       "        vertical-align: middle;\n",
       "    }\n",
       "\n",
       "    .dataframe tbody tr th {\n",
       "        vertical-align: top;\n",
       "    }\n",
       "\n",
       "    .dataframe thead th {\n",
       "        text-align: right;\n",
       "    }\n",
       "</style>\n",
       "<table border=\"1\" class=\"dataframe\">\n",
       "  <thead>\n",
       "    <tr style=\"text-align: right;\">\n",
       "      <th></th>\n",
       "      <th>year</th>\n",
       "      <th>types</th>\n",
       "      <th>total</th>\n",
       "    </tr>\n",
       "  </thead>\n",
       "  <tbody>\n",
       "    <tr>\n",
       "      <th>0</th>\n",
       "      <td>1999</td>\n",
       "      <td>handgun</td>\n",
       "      <td>371893.0</td>\n",
       "    </tr>\n",
       "    <tr>\n",
       "      <th>1</th>\n",
       "      <td>2000</td>\n",
       "      <td>handgun</td>\n",
       "      <td>328615.0</td>\n",
       "    </tr>\n",
       "    <tr>\n",
       "      <th>2</th>\n",
       "      <td>2001</td>\n",
       "      <td>handgun</td>\n",
       "      <td>280044.0</td>\n",
       "    </tr>\n",
       "  </tbody>\n",
       "</table>\n",
       "</div>"
      ],
      "text/plain": [
       "   year    types     total\n",
       "0  1999  handgun  371893.0\n",
       "1  2000  handgun  328615.0\n",
       "2  2001  handgun  280044.0"
      ]
     },
     "execution_count": 1287,
     "metadata": {},
     "output_type": "execute_result"
    }
   ],
   "source": [
    "# Change the dataframe to a long form for plotting\n",
    "df_guns_melted = pd.melt(df_guns_grp, id_vars=[\"year\"], value_vars=['handgun', 'long gun', 'other', 'multiple'],\n",
    "                        var_name='types', value_name='total')\n",
    "df_guns_melted.head(3)"
   ]
  },
  {
   "cell_type": "code",
   "execution_count": 1314,
   "metadata": {},
   "outputs": [
    {
     "data": {
      "image/png": "[encoded data removed]",
      "text/plain": [
       "<Figure size 936x360 with 1 Axes>"
      ]
     },
     "metadata": {
      "needs_background": "light"
     },
     "output_type": "display_data"
    }
   ],
   "source": [
    "fig , ax = plt.subplots(figsize=(13,5))\n",
    "sns.scatterplot(data=df_guns_melted, y='total', x='year', hue='types', ax=ax);\n",
    "\n",
    "title = ['Gun Permit in California', '(1999 to 2016)',]\n",
    "ax.set_title(\n",
    "    '\\n'.join(title),\n",
    "    fontsize='large',\n",
    "    loc='center',\n",
    "    fontweight='bold',\n",
    "    style='italic',\n",
    "    family='monospace');\n",
    "\n",
    "ax.set_xlabel(\n",
    "    'Years', \n",
    "    fontsize='large');\n",
    "\n",
    "ax.set_ylabel(\n",
    "    'Total', \n",
    "    fontsize='large');"
   ]
  },
  {
   "cell_type": "markdown",
   "metadata": {},
   "source": [
    "### Q2: What is the trend of gun permit and background checks in California? <a id='q2'></a><a href=\"#toc\"><span style=\"font-size: 12px\">[TOC]</span></a>"
   ]
  },
  {
   "cell_type": "code",
   "execution_count": 1289,
   "metadata": {},
   "outputs": [
    {
     "data": {
      "text/html": [
       "<div>\n",
       "<style scoped>\n",
       "    .dataframe tbody tr th:only-of-type {\n",
       "        vertical-align: middle;\n",
       "    }\n",
       "\n",
       "    .dataframe tbody tr th {\n",
       "        vertical-align: top;\n",
       "    }\n",
       "\n",
       "    .dataframe thead th {\n",
       "        text-align: right;\n",
       "    }\n",
       "</style>\n",
       "<table border=\"1\" class=\"dataframe\">\n",
       "  <thead>\n",
       "    <tr style=\"text-align: right;\">\n",
       "      <th></th>\n",
       "      <th>year</th>\n",
       "      <th>types</th>\n",
       "      <th>total</th>\n",
       "    </tr>\n",
       "  </thead>\n",
       "  <tbody>\n",
       "    <tr>\n",
       "      <th>0</th>\n",
       "      <td>1999</td>\n",
       "      <td>permit</td>\n",
       "      <td>101132.0</td>\n",
       "    </tr>\n",
       "    <tr>\n",
       "      <th>1</th>\n",
       "      <td>2000</td>\n",
       "      <td>permit</td>\n",
       "      <td>163145.0</td>\n",
       "    </tr>\n",
       "    <tr>\n",
       "      <th>2</th>\n",
       "      <td>2001</td>\n",
       "      <td>permit</td>\n",
       "      <td>236271.0</td>\n",
       "    </tr>\n",
       "  </tbody>\n",
       "</table>\n",
       "</div>"
      ],
      "text/plain": [
       "   year   types     total\n",
       "0  1999  permit  101132.0\n",
       "1  2000  permit  163145.0\n",
       "2  2001  permit  236271.0"
      ]
     },
     "execution_count": 1289,
     "metadata": {},
     "output_type": "execute_result"
    }
   ],
   "source": [
    "# Melt permit and background checks for plotting\n",
    "df_permit_melted = pd.melt(df_guns_grp, id_vars=[\"year\"], value_vars=['permit', 'background check'],\n",
    "                        var_name='types', value_name='total')\n",
    "df_permit_melted.head(3)"
   ]
  },
  {
   "cell_type": "code",
   "execution_count": 1315,
   "metadata": {},
   "outputs": [
    {
     "data": {
      "image/png": "[encoded data removed]",
      "text/plain": [
       "<Figure size 936x576 with 1 Axes>"
      ]
     },
     "metadata": {
      "needs_background": "light"
     },
     "output_type": "display_data"
    }
   ],
   "source": [
    "# Plotting for permits and background check\n",
    "fig , ax = plt.subplots(figsize=(13,8))\n",
    "sns.lineplot(data=df_permit_melted, y='total', x='year', hue='types', ax=ax);\n",
    "\n",
    "ax.set_title(\n",
    "    \"Gun Permit and Backgroun-Check in California\\n(1999 to 2016)\",\n",
    "    fontsize='large',\n",
    "    loc='center',\n",
    "    fontweight='bold',\n",
    "    style='italic',\n",
    "    family='monospace')\n",
    "    \n",
    "ax.set_xlabel(\n",
    "    'Years', \n",
    "    fontsize='large')\n",
    "\n",
    "ax.set_ylabel(\n",
    "    'Total in 100K', \n",
    "    fontsize='large')\n",
    "\n",
    "t = np.arange(df_permit_melted.total.min(), df_permit_melted.total.max(), 100000)\n",
    "ax.set_yticks(t);"
   ]
  },
  {
   "cell_type": "markdown",
   "metadata": {},
   "source": [
    "### Q3: How is The Growth of Gun Permit  in Relationship to the Growth of The Population? <a id=\"q3\"></a><a href=\"#toc\"><span style=\"font-size: 12px\">[TOC]</span></a>"
   ]
  },
  {
   "cell_type": "code",
   "execution_count": 1291,
   "metadata": {},
   "outputs": [
    {
     "data": {
      "text/html": [
       "<div>\n",
       "<style scoped>\n",
       "    .dataframe tbody tr th:only-of-type {\n",
       "        vertical-align: middle;\n",
       "    }\n",
       "\n",
       "    .dataframe tbody tr th {\n",
       "        vertical-align: top;\n",
       "    }\n",
       "\n",
       "    .dataframe thead th {\n",
       "        text-align: right;\n",
       "    }\n",
       "</style>\n",
       "<table border=\"1\" class=\"dataframe\">\n",
       "  <thead>\n",
       "    <tr style=\"text-align: right;\">\n",
       "      <th></th>\n",
       "      <th>Fact</th>\n",
       "      <th>California</th>\n",
       "      <th>date</th>\n",
       "    </tr>\n",
       "  </thead>\n",
       "  <tbody>\n",
       "    <tr>\n",
       "      <th>0</th>\n",
       "      <td>Population estimates, July 1, 2016,  (V2016)</td>\n",
       "      <td>39250017.0</td>\n",
       "      <td>2016-07-01</td>\n",
       "    </tr>\n",
       "    <tr>\n",
       "      <th>1</th>\n",
       "      <td>Population estimates base, April 1, 2010,  (V2...</td>\n",
       "      <td>37254522.0</td>\n",
       "      <td>2010-04-01</td>\n",
       "    </tr>\n",
       "    <tr>\n",
       "      <th>2</th>\n",
       "      <td>Population, Census, April 1, 2010</td>\n",
       "      <td>37253956.0</td>\n",
       "      <td>2010-04-01</td>\n",
       "    </tr>\n",
       "  </tbody>\n",
       "</table>\n",
       "</div>"
      ],
      "text/plain": [
       "                                                Fact  California       date\n",
       "0       Population estimates, July 1, 2016,  (V2016)  39250017.0 2016-07-01\n",
       "1  Population estimates base, April 1, 2010,  (V2...  37254522.0 2010-04-01\n",
       "2                  Population, Census, April 1, 2010  37253956.0 2010-04-01"
      ]
     },
     "execution_count": 1291,
     "metadata": {},
     "output_type": "execute_result"
    }
   ],
   "source": [
    "# California census data\n",
    "df_census_cal_pop.head(3)"
   ]
  },
  {
   "cell_type": "code",
   "execution_count": 1292,
   "metadata": {},
   "outputs": [
    {
     "data": {
      "text/html": [
       "<div>\n",
       "<style scoped>\n",
       "    .dataframe tbody tr th:only-of-type {\n",
       "        vertical-align: middle;\n",
       "    }\n",
       "\n",
       "    .dataframe tbody tr th {\n",
       "        vertical-align: top;\n",
       "    }\n",
       "\n",
       "    .dataframe thead th {\n",
       "        text-align: right;\n",
       "    }\n",
       "</style>\n",
       "<table border=\"1\" class=\"dataframe\">\n",
       "  <thead>\n",
       "    <tr style=\"text-align: right;\">\n",
       "      <th></th>\n",
       "      <th>fact</th>\n",
       "      <th>population</th>\n",
       "      <th>month</th>\n",
       "    </tr>\n",
       "  </thead>\n",
       "  <tbody>\n",
       "    <tr>\n",
       "      <th>0</th>\n",
       "      <td>Population estimates, July 1, 2016,  (V2016)</td>\n",
       "      <td>39250017.0</td>\n",
       "      <td>2016-07-01</td>\n",
       "    </tr>\n",
       "    <tr>\n",
       "      <th>2</th>\n",
       "      <td>Population, Census, April 1, 2010</td>\n",
       "      <td>37253956.0</td>\n",
       "      <td>2010-04-01</td>\n",
       "    </tr>\n",
       "  </tbody>\n",
       "</table>\n",
       "</div>"
      ],
      "text/plain": [
       "                                           fact  population      month\n",
       "0  Population estimates, July 1, 2016,  (V2016)  39250017.0 2016-07-01\n",
       "2             Population, Census, April 1, 2010  37253956.0 2010-04-01"
      ]
     },
     "execution_count": 1292,
     "metadata": {},
     "output_type": "execute_result"
    }
   ],
   "source": [
    "# Select population data for two months (07/2016, and 4/2010)\n",
    "df_pop_2mons = df_census_cal_pop.iloc[[0,2],:]\n",
    "df_pop_2mons.columns = ['fact', 'population', 'month']\n",
    "df_pop_2mons"
   ]
  },
  {
   "cell_type": "code",
   "execution_count": 1293,
   "metadata": {},
   "outputs": [
    {
     "data": {
      "text/html": [
       "<div>\n",
       "<style scoped>\n",
       "    .dataframe tbody tr th:only-of-type {\n",
       "        vertical-align: middle;\n",
       "    }\n",
       "\n",
       "    .dataframe tbody tr th {\n",
       "        vertical-align: top;\n",
       "    }\n",
       "\n",
       "    .dataframe thead th {\n",
       "        text-align: right;\n",
       "    }\n",
       "</style>\n",
       "<table border=\"1\" class=\"dataframe\">\n",
       "  <thead>\n",
       "    <tr style=\"text-align: right;\">\n",
       "      <th></th>\n",
       "      <th>month</th>\n",
       "      <th>state</th>\n",
       "      <th>permit</th>\n",
       "      <th>handgun</th>\n",
       "      <th>long gun</th>\n",
       "      <th>other</th>\n",
       "      <th>multiple</th>\n",
       "      <th>background check</th>\n",
       "    </tr>\n",
       "  </thead>\n",
       "  <tbody>\n",
       "    <tr>\n",
       "      <th>9</th>\n",
       "      <td>2016-12-01</td>\n",
       "      <td>California</td>\n",
       "      <td>61808.0</td>\n",
       "      <td>63649.0</td>\n",
       "      <td>93224.0</td>\n",
       "      <td>77929.0</td>\n",
       "      <td>0</td>\n",
       "      <td>298161.0</td>\n",
       "    </tr>\n",
       "    <tr>\n",
       "      <th>10</th>\n",
       "      <td>2016-11-01</td>\n",
       "      <td>California</td>\n",
       "      <td>53278.0</td>\n",
       "      <td>56932.0</td>\n",
       "      <td>82554.0</td>\n",
       "      <td>30133.0</td>\n",
       "      <td>0</td>\n",
       "      <td>224039.0</td>\n",
       "    </tr>\n",
       "    <tr>\n",
       "      <th>11</th>\n",
       "      <td>2016-10-01</td>\n",
       "      <td>California</td>\n",
       "      <td>60578.0</td>\n",
       "      <td>45785.0</td>\n",
       "      <td>54333.0</td>\n",
       "      <td>19226.0</td>\n",
       "      <td>0</td>\n",
       "      <td>180968.0</td>\n",
       "    </tr>\n",
       "  </tbody>\n",
       "</table>\n",
       "</div>"
      ],
      "text/plain": [
       "        month       state   permit  handgun  long gun    other  multiple  \\\n",
       "9  2016-12-01  California  61808.0  63649.0   93224.0  77929.0         0   \n",
       "10 2016-11-01  California  53278.0  56932.0   82554.0  30133.0         0   \n",
       "11 2016-10-01  California  60578.0  45785.0   54333.0  19226.0         0   \n",
       "\n",
       "    background check  \n",
       "9           298161.0  \n",
       "10          224039.0  \n",
       "11          180968.0  "
      ]
     },
     "execution_count": 1293,
     "metadata": {},
     "output_type": "execute_result"
    }
   ],
   "source": [
    "# California gun data\n",
    "df_guns_cal.head(3)"
   ]
  },
  {
   "cell_type": "code",
   "execution_count": 1294,
   "metadata": {},
   "outputs": [
    {
     "data": {
      "text/html": [
       "<div>\n",
       "<style scoped>\n",
       "    .dataframe tbody tr th:only-of-type {\n",
       "        vertical-align: middle;\n",
       "    }\n",
       "\n",
       "    .dataframe tbody tr th {\n",
       "        vertical-align: top;\n",
       "    }\n",
       "\n",
       "    .dataframe thead th {\n",
       "        text-align: right;\n",
       "    }\n",
       "</style>\n",
       "<table border=\"1\" class=\"dataframe\">\n",
       "  <thead>\n",
       "    <tr style=\"text-align: right;\">\n",
       "      <th></th>\n",
       "      <th>month</th>\n",
       "      <th>state</th>\n",
       "      <th>permit</th>\n",
       "      <th>handgun</th>\n",
       "      <th>long gun</th>\n",
       "      <th>other</th>\n",
       "      <th>multiple</th>\n",
       "      <th>background check</th>\n",
       "    </tr>\n",
       "  </thead>\n",
       "  <tbody>\n",
       "    <tr>\n",
       "      <th>14</th>\n",
       "      <td>2016-07-01</td>\n",
       "      <td>California</td>\n",
       "      <td>77962.0</td>\n",
       "      <td>46361.0</td>\n",
       "      <td>47594.0</td>\n",
       "      <td>17297.0</td>\n",
       "      <td>0</td>\n",
       "      <td>190218.0</td>\n",
       "    </tr>\n",
       "    <tr>\n",
       "      <th>89</th>\n",
       "      <td>2010-04-01</td>\n",
       "      <td>California</td>\n",
       "      <td>26930.0</td>\n",
       "      <td>26170.0</td>\n",
       "      <td>27650.0</td>\n",
       "      <td>0.0</td>\n",
       "      <td>0</td>\n",
       "      <td>80750.0</td>\n",
       "    </tr>\n",
       "  </tbody>\n",
       "</table>\n",
       "</div>"
      ],
      "text/plain": [
       "        month       state   permit  handgun  long gun    other  multiple  \\\n",
       "14 2016-07-01  California  77962.0  46361.0   47594.0  17297.0         0   \n",
       "89 2010-04-01  California  26930.0  26170.0   27650.0      0.0         0   \n",
       "\n",
       "    background check  \n",
       "14          190218.0  \n",
       "89           80750.0  "
      ]
     },
     "execution_count": 1294,
     "metadata": {},
     "output_type": "execute_result"
    }
   ],
   "source": [
    "# Select gun data for the same two months (07/2016, and 4/2010) to compare with the population\n",
    "df_rel = df_guns_cal.loc[(df_guns_cal.month=='2016-07-01') | (df_guns_cal.month=='2010-04-01')]\n",
    "df_rel"
   ]
  },
  {
   "cell_type": "code",
   "execution_count": 1295,
   "metadata": {},
   "outputs": [
    {
     "data": {
      "text/html": [
       "<div>\n",
       "<style scoped>\n",
       "    .dataframe tbody tr th:only-of-type {\n",
       "        vertical-align: middle;\n",
       "    }\n",
       "\n",
       "    .dataframe tbody tr th {\n",
       "        vertical-align: top;\n",
       "    }\n",
       "\n",
       "    .dataframe thead th {\n",
       "        text-align: right;\n",
       "    }\n",
       "</style>\n",
       "<table border=\"1\" class=\"dataframe\">\n",
       "  <thead>\n",
       "    <tr style=\"text-align: right;\">\n",
       "      <th></th>\n",
       "      <th>month</th>\n",
       "      <th>state</th>\n",
       "      <th>permit</th>\n",
       "      <th>handgun</th>\n",
       "      <th>long gun</th>\n",
       "      <th>other</th>\n",
       "      <th>multiple</th>\n",
       "      <th>background check</th>\n",
       "      <th>fact</th>\n",
       "      <th>population</th>\n",
       "    </tr>\n",
       "  </thead>\n",
       "  <tbody>\n",
       "    <tr>\n",
       "      <th>0</th>\n",
       "      <td>2016-07-01</td>\n",
       "      <td>California</td>\n",
       "      <td>77962.0</td>\n",
       "      <td>46361.0</td>\n",
       "      <td>47594.0</td>\n",
       "      <td>17297.0</td>\n",
       "      <td>0</td>\n",
       "      <td>190218.0</td>\n",
       "      <td>Population estimates, July 1, 2016,  (V2016)</td>\n",
       "      <td>39250017.0</td>\n",
       "    </tr>\n",
       "    <tr>\n",
       "      <th>1</th>\n",
       "      <td>2010-04-01</td>\n",
       "      <td>California</td>\n",
       "      <td>26930.0</td>\n",
       "      <td>26170.0</td>\n",
       "      <td>27650.0</td>\n",
       "      <td>0.0</td>\n",
       "      <td>0</td>\n",
       "      <td>80750.0</td>\n",
       "      <td>Population, Census, April 1, 2010</td>\n",
       "      <td>37253956.0</td>\n",
       "    </tr>\n",
       "  </tbody>\n",
       "</table>\n",
       "</div>"
      ],
      "text/plain": [
       "       month       state   permit  handgun  long gun    other  multiple  \\\n",
       "0 2016-07-01  California  77962.0  46361.0   47594.0  17297.0         0   \n",
       "1 2010-04-01  California  26930.0  26170.0   27650.0      0.0         0   \n",
       "\n",
       "   background check                                          fact  population  \n",
       "0          190218.0  Population estimates, July 1, 2016,  (V2016)  39250017.0  \n",
       "1           80750.0             Population, Census, April 1, 2010  37253956.0  "
      ]
     },
     "execution_count": 1295,
     "metadata": {},
     "output_type": "execute_result"
    }
   ],
   "source": [
    "# Merge the gun data and popolation data\n",
    "df_merged = pd.merge(df_rel, df_pop_2mons, on='month')\n",
    "df_merged"
   ]
  },
  {
   "cell_type": "code",
   "execution_count": 1296,
   "metadata": {},
   "outputs": [
    {
     "data": {
      "text/html": [
       "<div>\n",
       "<style scoped>\n",
       "    .dataframe tbody tr th:only-of-type {\n",
       "        vertical-align: middle;\n",
       "    }\n",
       "\n",
       "    .dataframe tbody tr th {\n",
       "        vertical-align: top;\n",
       "    }\n",
       "\n",
       "    .dataframe thead th {\n",
       "        text-align: right;\n",
       "    }\n",
       "</style>\n",
       "<table border=\"1\" class=\"dataframe\">\n",
       "  <thead>\n",
       "    <tr style=\"text-align: right;\">\n",
       "      <th></th>\n",
       "      <th>month</th>\n",
       "      <th>state</th>\n",
       "      <th>permit</th>\n",
       "      <th>handgun</th>\n",
       "      <th>long gun</th>\n",
       "      <th>other</th>\n",
       "      <th>multiple</th>\n",
       "      <th>background check</th>\n",
       "      <th>population</th>\n",
       "    </tr>\n",
       "  </thead>\n",
       "  <tbody>\n",
       "    <tr>\n",
       "      <th>0</th>\n",
       "      <td>2016-07-01</td>\n",
       "      <td>California</td>\n",
       "      <td>77962.0</td>\n",
       "      <td>46361.0</td>\n",
       "      <td>47594.0</td>\n",
       "      <td>17297.0</td>\n",
       "      <td>0</td>\n",
       "      <td>190218.0</td>\n",
       "      <td>39250017.0</td>\n",
       "    </tr>\n",
       "    <tr>\n",
       "      <th>1</th>\n",
       "      <td>2010-04-01</td>\n",
       "      <td>California</td>\n",
       "      <td>26930.0</td>\n",
       "      <td>26170.0</td>\n",
       "      <td>27650.0</td>\n",
       "      <td>0.0</td>\n",
       "      <td>0</td>\n",
       "      <td>80750.0</td>\n",
       "      <td>37253956.0</td>\n",
       "    </tr>\n",
       "  </tbody>\n",
       "</table>\n",
       "</div>"
      ],
      "text/plain": [
       "       month       state   permit  handgun  long gun    other  multiple  \\\n",
       "0 2016-07-01  California  77962.0  46361.0   47594.0  17297.0         0   \n",
       "1 2010-04-01  California  26930.0  26170.0   27650.0      0.0         0   \n",
       "\n",
       "   background check  population  \n",
       "0          190218.0  39250017.0  \n",
       "1           80750.0  37253956.0  "
      ]
     },
     "execution_count": 1296,
     "metadata": {},
     "output_type": "execute_result"
    }
   ],
   "source": [
    "# Drop column 'fact'\n",
    "df_merged.drop(['fact'], axis=1, inplace=True)\n",
    "df_merged"
   ]
  },
  {
   "cell_type": "code",
   "execution_count": 1297,
   "metadata": {},
   "outputs": [
    {
     "data": {
      "text/html": [
       "<div>\n",
       "<style scoped>\n",
       "    .dataframe tbody tr th:only-of-type {\n",
       "        vertical-align: middle;\n",
       "    }\n",
       "\n",
       "    .dataframe tbody tr th {\n",
       "        vertical-align: top;\n",
       "    }\n",
       "\n",
       "    .dataframe thead th {\n",
       "        text-align: right;\n",
       "    }\n",
       "</style>\n",
       "<table border=\"1\" class=\"dataframe\">\n",
       "  <thead>\n",
       "    <tr style=\"text-align: right;\">\n",
       "      <th></th>\n",
       "      <th>month</th>\n",
       "      <th>state</th>\n",
       "      <th>permit</th>\n",
       "      <th>handgun</th>\n",
       "      <th>long gun</th>\n",
       "      <th>other</th>\n",
       "      <th>multiple</th>\n",
       "      <th>background check</th>\n",
       "      <th>population</th>\n",
       "      <th>base permit</th>\n",
       "      <th>base bg-check</th>\n",
       "      <th>base population</th>\n",
       "    </tr>\n",
       "  </thead>\n",
       "  <tbody>\n",
       "    <tr>\n",
       "      <th>0</th>\n",
       "      <td>2016-07-01</td>\n",
       "      <td>California</td>\n",
       "      <td>77962.0</td>\n",
       "      <td>46361.0</td>\n",
       "      <td>47594.0</td>\n",
       "      <td>17297.0</td>\n",
       "      <td>0</td>\n",
       "      <td>190218.0</td>\n",
       "      <td>39250017.0</td>\n",
       "      <td>26930.0</td>\n",
       "      <td>80750.0</td>\n",
       "      <td>37253956.0</td>\n",
       "    </tr>\n",
       "    <tr>\n",
       "      <th>1</th>\n",
       "      <td>2010-04-01</td>\n",
       "      <td>California</td>\n",
       "      <td>26930.0</td>\n",
       "      <td>26170.0</td>\n",
       "      <td>27650.0</td>\n",
       "      <td>0.0</td>\n",
       "      <td>0</td>\n",
       "      <td>80750.0</td>\n",
       "      <td>37253956.0</td>\n",
       "      <td>26930.0</td>\n",
       "      <td>80750.0</td>\n",
       "      <td>37253956.0</td>\n",
       "    </tr>\n",
       "  </tbody>\n",
       "</table>\n",
       "</div>"
      ],
      "text/plain": [
       "       month       state   permit  handgun  long gun    other  multiple  \\\n",
       "0 2016-07-01  California  77962.0  46361.0   47594.0  17297.0         0   \n",
       "1 2010-04-01  California  26930.0  26170.0   27650.0      0.0         0   \n",
       "\n",
       "   background check  population  base permit  base bg-check  base population  \n",
       "0          190218.0  39250017.0      26930.0        80750.0       37253956.0  \n",
       "1           80750.0  37253956.0      26930.0        80750.0       37253956.0  "
      ]
     },
     "execution_count": 1297,
     "metadata": {},
     "output_type": "execute_result"
    }
   ],
   "source": [
    "# Add base columns for permit, backgroud check and population to compare changes from April 2010 to July 2016\n",
    "df_merged['base permit'] = float(df_merged.loc[df_merged.month == '2010-04-01'].permit)\n",
    "df_merged['base bg-check'] = float(df_merged.loc[df_merged.month == '2010-04-01']['background check'])\n",
    "df_merged['base population'] = float(df_merged.loc[df_merged.month == '2010-04-01'].population)\n",
    "df_merged"
   ]
  },
  {
   "cell_type": "code",
   "execution_count": 1298,
   "metadata": {},
   "outputs": [
    {
     "data": {
      "text/html": [
       "<div>\n",
       "<style scoped>\n",
       "    .dataframe tbody tr th:only-of-type {\n",
       "        vertical-align: middle;\n",
       "    }\n",
       "\n",
       "    .dataframe tbody tr th {\n",
       "        vertical-align: top;\n",
       "    }\n",
       "\n",
       "    .dataframe thead th {\n",
       "        text-align: right;\n",
       "    }\n",
       "</style>\n",
       "<table border=\"1\" class=\"dataframe\">\n",
       "  <thead>\n",
       "    <tr style=\"text-align: right;\">\n",
       "      <th></th>\n",
       "      <th>month</th>\n",
       "      <th>state</th>\n",
       "      <th>permit</th>\n",
       "      <th>handgun</th>\n",
       "      <th>long gun</th>\n",
       "      <th>other</th>\n",
       "      <th>multiple</th>\n",
       "      <th>background check</th>\n",
       "      <th>population</th>\n",
       "      <th>base permit</th>\n",
       "      <th>base bg-check</th>\n",
       "      <th>base population</th>\n",
       "      <th>chng permit</th>\n",
       "      <th>chng bg-check</th>\n",
       "      <th>chng population</th>\n",
       "    </tr>\n",
       "  </thead>\n",
       "  <tbody>\n",
       "    <tr>\n",
       "      <th>0</th>\n",
       "      <td>2016-07-01</td>\n",
       "      <td>California</td>\n",
       "      <td>77962.0</td>\n",
       "      <td>46361.0</td>\n",
       "      <td>47594.0</td>\n",
       "      <td>17297.0</td>\n",
       "      <td>0</td>\n",
       "      <td>190218.0</td>\n",
       "      <td>39250017.0</td>\n",
       "      <td>26930.0</td>\n",
       "      <td>80750.0</td>\n",
       "      <td>37253956.0</td>\n",
       "      <td>189.4987</td>\n",
       "      <td>135.564087</td>\n",
       "      <td>5.357984</td>\n",
       "    </tr>\n",
       "    <tr>\n",
       "      <th>1</th>\n",
       "      <td>2010-04-01</td>\n",
       "      <td>California</td>\n",
       "      <td>26930.0</td>\n",
       "      <td>26170.0</td>\n",
       "      <td>27650.0</td>\n",
       "      <td>0.0</td>\n",
       "      <td>0</td>\n",
       "      <td>80750.0</td>\n",
       "      <td>37253956.0</td>\n",
       "      <td>26930.0</td>\n",
       "      <td>80750.0</td>\n",
       "      <td>37253956.0</td>\n",
       "      <td>0.0000</td>\n",
       "      <td>0.000000</td>\n",
       "      <td>0.000000</td>\n",
       "    </tr>\n",
       "  </tbody>\n",
       "</table>\n",
       "</div>"
      ],
      "text/plain": [
       "       month       state   permit  handgun  long gun    other  multiple  \\\n",
       "0 2016-07-01  California  77962.0  46361.0   47594.0  17297.0         0   \n",
       "1 2010-04-01  California  26930.0  26170.0   27650.0      0.0         0   \n",
       "\n",
       "   background check  population  base permit  base bg-check  base population  \\\n",
       "0          190218.0  39250017.0      26930.0        80750.0       37253956.0   \n",
       "1           80750.0  37253956.0      26930.0        80750.0       37253956.0   \n",
       "\n",
       "   chng permit  chng bg-check  chng population  \n",
       "0     189.4987     135.564087         5.357984  \n",
       "1       0.0000       0.000000         0.000000  "
      ]
     },
     "execution_count": 1298,
     "metadata": {},
     "output_type": "execute_result"
    }
   ],
   "source": [
    "# Calculate the percent changes\n",
    "df_merged['chng permit'] = (df_merged['permit'] - df_merged['base permit']) / df_merged['base permit'] * 100\n",
    "df_merged['chng bg-check'] = (df_merged['background check'] - df_merged['base bg-check']) / df_merged['base bg-check'] * 100\n",
    "df_merged['chng population'] = (df_merged['population'] - df_merged['base population']) / df_merged['base population'] * 100\n",
    "df_merged"
   ]
  },
  {
   "cell_type": "code",
   "execution_count": 1299,
   "metadata": {},
   "outputs": [
    {
     "data": {
      "text/html": [
       "<div>\n",
       "<style scoped>\n",
       "    .dataframe tbody tr th:only-of-type {\n",
       "        vertical-align: middle;\n",
       "    }\n",
       "\n",
       "    .dataframe tbody tr th {\n",
       "        vertical-align: top;\n",
       "    }\n",
       "\n",
       "    .dataframe thead th {\n",
       "        text-align: right;\n",
       "    }\n",
       "</style>\n",
       "<table border=\"1\" class=\"dataframe\">\n",
       "  <thead>\n",
       "    <tr style=\"text-align: right;\">\n",
       "      <th></th>\n",
       "      <th>month</th>\n",
       "      <th>types</th>\n",
       "      <th>percent</th>\n",
       "    </tr>\n",
       "  </thead>\n",
       "  <tbody>\n",
       "    <tr>\n",
       "      <th>1</th>\n",
       "      <td>2010-04-01</td>\n",
       "      <td>chng permit</td>\n",
       "      <td>0.000000</td>\n",
       "    </tr>\n",
       "    <tr>\n",
       "      <th>3</th>\n",
       "      <td>2010-04-01</td>\n",
       "      <td>chng bg-check</td>\n",
       "      <td>0.000000</td>\n",
       "    </tr>\n",
       "    <tr>\n",
       "      <th>5</th>\n",
       "      <td>2010-04-01</td>\n",
       "      <td>chng population</td>\n",
       "      <td>0.000000</td>\n",
       "    </tr>\n",
       "    <tr>\n",
       "      <th>0</th>\n",
       "      <td>2016-07-01</td>\n",
       "      <td>chng permit</td>\n",
       "      <td>189.498700</td>\n",
       "    </tr>\n",
       "    <tr>\n",
       "      <th>2</th>\n",
       "      <td>2016-07-01</td>\n",
       "      <td>chng bg-check</td>\n",
       "      <td>135.564087</td>\n",
       "    </tr>\n",
       "    <tr>\n",
       "      <th>4</th>\n",
       "      <td>2016-07-01</td>\n",
       "      <td>chng population</td>\n",
       "      <td>5.357984</td>\n",
       "    </tr>\n",
       "  </tbody>\n",
       "</table>\n",
       "</div>"
      ],
      "text/plain": [
       "       month            types     percent\n",
       "1 2010-04-01      chng permit    0.000000\n",
       "3 2010-04-01    chng bg-check    0.000000\n",
       "5 2010-04-01  chng population    0.000000\n",
       "0 2016-07-01      chng permit  189.498700\n",
       "2 2016-07-01    chng bg-check  135.564087\n",
       "4 2016-07-01  chng population    5.357984"
      ]
     },
     "execution_count": 1299,
     "metadata": {},
     "output_type": "execute_result"
    }
   ],
   "source": [
    "# Melt the data for plotting\n",
    "df_rel_melted = pd.melt(df_merged, id_vars=[\"month\"], value_vars=['chng permit', 'chng bg-check','chng population'],\n",
    "                        var_name='types', value_name='percent').copy(deep=True)\n",
    "df_rel_melted.sort_values(by=['month'], inplace=True)\n",
    "df_rel_melted"
   ]
  },
  {
   "cell_type": "code",
   "execution_count": 1317,
   "metadata": {},
   "outputs": [
    {
     "data": {
      "image/png": "[encoded data removed]",
      "text/plain": [
       "<Figure size 864x360 with 1 Axes>"
      ]
     },
     "metadata": {
      "needs_background": "light"
     },
     "output_type": "display_data"
    }
   ],
   "source": [
    "# Plotting changes from moth April 2010 to July 2016\n",
    "titles = ['Gun Permit and Backgroun-Check in Relationship to Population Growth in California', '(Between April, 2010 and July, 2016)']\n",
    "data = df_rel_melted\n",
    "\n",
    "palette = {\n",
    "    'chng permit': 'tab:blue',\n",
    "    'chng bg-check': 'tab:green',\n",
    "    'chng population': 'tab:orange',\n",
    "}\n",
    "\n",
    "fig , ax = plt.subplots(figsize=(12,5))\n",
    "sns.barplot(data=data, y='percent', x='month', hue='types', ax=ax, palette=palette);\n",
    "\n",
    "ax.set_title(\n",
    "    '\\n'.join(titles),\n",
    "    fontsize='large',\n",
    "    loc='center',\n",
    "    fontweight='bold',\n",
    "    style='italic',\n",
    "    family='monospace')\n",
    "\n",
    "ax.set_xlabel(\n",
    "    '(April 2010 is the Base Month; change=0%)', \n",
    "    fontsize='large')\n",
    "\n",
    "ax.set_ylabel(\n",
    "    'Change Percentage (%)', \n",
    "    fontsize='large')\n",
    "\n",
    "ax.set_xticklabels(['April 2010', 'July 2016']);\n"
   ]
  },
  {
   "cell_type": "markdown",
   "metadata": {},
   "source": [
    "## Conclusions <a id='conclusions'></a><a href=\"#toc\"><span style=\"font-size: 12px\">[TOC]</span></a>"
   ]
  },
  {
   "cell_type": "markdown",
   "metadata": {},
   "source": [
    "><div style=\"font-weight:bold; color:#1976d2\">1. In California, gun permit has rapidly increased by 272.18% since 2011.</div>"
   ]
  },
  {
   "cell_type": "code",
   "execution_count": 1301,
   "metadata": {},
   "outputs": [
    {
     "data": {
      "text/plain": [
       "272.1780170480036"
      ]
     },
     "execution_count": 1301,
     "metadata": {},
     "output_type": "execute_result"
    }
   ],
   "source": [
    "# Calculate the change from 2011 to 2016\n",
    "permit_2011 = float(df_permit_melted[(df_permit_melted.types == 'permit') & (df_permit_melted.year == 2011)].total)\n",
    "permit_2016 = float(df_permit_melted[(df_permit_melted.types == 'permit') & (df_permit_melted.year == 2016)].total)\n",
    "change_prct = (permit_2016 - permit_2011) / permit_2011 * 100\n",
    "change_prct"
   ]
  },
  {
   "cell_type": "markdown",
   "metadata": {},
   "source": [
    "><div style=\"font-weight:bold; color:#1976d2\">2. On average, there are more permits for long gun then handgun. However, it is not consistent from year to year. Some years there are more permits for hand gun then long gun; other years there are more permits for long gun then hand gun.</div>"
   ]
  },
  {
   "cell_type": "code",
   "execution_count": 1302,
   "metadata": {},
   "outputs": [
    {
     "data": {
      "text/plain": [
       "types\n",
       "handgun     305665.333333\n",
       "long gun    315672.111111\n",
       "multiple     11548.000000\n",
       "other        41752.615385\n",
       "Name: total, dtype: float64"
      ]
     },
     "execution_count": 1302,
     "metadata": {},
     "output_type": "execute_result"
    }
   ],
   "source": [
    "# Calculate the average for different types of guns\n",
    "mean_guns = df_guns_melted.groupby('types').total.mean()\n",
    "mean_guns"
   ]
  },
  {
   "cell_type": "code",
   "execution_count": 1303,
   "metadata": {},
   "outputs": [
    {
     "data": {
      "image/png": "[encoded data removed]",
      "text/plain": [
       "<Figure size 432x288 with 1 Axes>"
      ]
     },
     "metadata": {
      "needs_background": "light"
     },
     "output_type": "display_data"
    }
   ],
   "source": [
    "# Plotting the average of difference types of gun\n",
    "mean_guns.plot(kind='bar');\n",
    "plt.title('Average Permit For Difference Types of Guns');\n",
    "plt.ylabel('Average Permit');\n",
    "plt.xlabel('Types of Gun');"
   ]
  },
  {
   "cell_type": "markdown",
   "metadata": {},
   "source": [
    "><div style=\"font-weight:bold; color:#1976d2\">3. There is no strong evidence showing the growth of population in California caused the growth of gun permit. Since the census data provides only two data point for population (April 01, 2010 and July 01, 2016), the population data from April 01, 2010 is established as the base. The percent changes is calculated between the population from July 01, 2016 and the base.<br><br>\n",
    "Between April 01, 2010 and July 01, 2016, while California population only increased by 5.38%, California gun permit increased by 189.50%</div"
   ]
  },
  {
   "cell_type": "code",
   "execution_count": 1304,
   "metadata": {},
   "outputs": [
    {
     "data": {
      "text/html": [
       "<div>\n",
       "<style scoped>\n",
       "    .dataframe tbody tr th:only-of-type {\n",
       "        vertical-align: middle;\n",
       "    }\n",
       "\n",
       "    .dataframe tbody tr th {\n",
       "        vertical-align: top;\n",
       "    }\n",
       "\n",
       "    .dataframe thead th {\n",
       "        text-align: right;\n",
       "    }\n",
       "</style>\n",
       "<table border=\"1\" class=\"dataframe\">\n",
       "  <thead>\n",
       "    <tr style=\"text-align: right;\">\n",
       "      <th></th>\n",
       "      <th>month</th>\n",
       "      <th>types</th>\n",
       "      <th>percent</th>\n",
       "    </tr>\n",
       "  </thead>\n",
       "  <tbody>\n",
       "    <tr>\n",
       "      <th>0</th>\n",
       "      <td>2016-07-01</td>\n",
       "      <td>chng permit</td>\n",
       "      <td>189.498700</td>\n",
       "    </tr>\n",
       "    <tr>\n",
       "      <th>2</th>\n",
       "      <td>2016-07-01</td>\n",
       "      <td>chng bg-check</td>\n",
       "      <td>135.564087</td>\n",
       "    </tr>\n",
       "    <tr>\n",
       "      <th>4</th>\n",
       "      <td>2016-07-01</td>\n",
       "      <td>chng population</td>\n",
       "      <td>5.357984</td>\n",
       "    </tr>\n",
       "  </tbody>\n",
       "</table>\n",
       "</div>"
      ],
      "text/plain": [
       "       month            types     percent\n",
       "0 2016-07-01      chng permit  189.498700\n",
       "2 2016-07-01    chng bg-check  135.564087\n",
       "4 2016-07-01  chng population    5.357984"
      ]
     },
     "execution_count": 1304,
     "metadata": {},
     "output_type": "execute_result"
    }
   ],
   "source": [
    "chngs = df_rel_melted[df_rel_melted.month == '2016-07-01']\n",
    "chngs"
   ]
  },
  {
   "cell_type": "code",
   "execution_count": 1305,
   "metadata": {},
   "outputs": [
    {
     "data": {
      "image/png": "[encoded data removed]",
      "text/plain": [
       "<Figure size 864x360 with 1 Axes>"
      ]
     },
     "metadata": {
      "needs_background": "light"
     },
     "output_type": "display_data"
    }
   ],
   "source": [
    "# Plotting changes from moth April 2010 to July 2016\n",
    "titles = ['Percent Changes in California', '(Between April, 2010 and July, 2016)']\n",
    "data = chngs\n",
    "\n",
    "palette = {\n",
    "    'chng permit': 'tab:blue',\n",
    "    'chng bg-check': 'tab:green',\n",
    "    'chng population': 'tab:orange',\n",
    "}\n",
    "\n",
    "fig , ax = plt.subplots(figsize=(12,5))\n",
    "sns.barplot(data=data, y='percent', x='month', hue='types', ax=ax, palette=palette);\n",
    "\n",
    "ax.set_title(\n",
    "    '\\n'.join(titles),\n",
    "    fontsize='large',\n",
    "    loc='center',\n",
    "    fontweight='bold',\n",
    "    style='italic',\n",
    "    family='monospace')\n",
    "\n",
    "ax.set_xlabel(\n",
    "    '(April 2010 is the Base Month)', \n",
    "    fontsize='large')\n",
    "\n",
    "ax.set_ylabel(\n",
    "    'Change Percentage (%)', \n",
    "    fontsize='large')\n",
    "\n",
    "ax.set_xticklabels(['July 2016']);"
   ]
  },
  {
   "cell_type": "markdown",
   "metadata": {},
   "source": [
    "## Resources <a id='resources'></a><a href=\"#toc\"><span style=\"font-size: 12px\">[TOC]</span></a>"
   ]
  },
  {
   "cell_type": "markdown",
   "metadata": {},
   "source": [
    "1. [Panda Doc](https://pandas.pydata.org/pandas-docs/stable/reference/api/pandas.DataFrame.set_index.html)\n",
    "2. [Seaborn Doc](https://seaborn.pydata.org/index.html)\n",
    "3. [Matplotlib Doc](https://matplotlib.org/stable/plot_types/index.html)\n",
    "4. [dev2qa.com](https://www.dev2qa.com/tag/python-pandas/)"
   ]
  }
 ],
 "metadata": {
  "kernelspec": {
   "display_name": "Python 3 (ipykernel)",
   "language": "python",
   "name": "python3"
  },
  "language_info": {
   "codemirror_mode": {
    "name": "ipython",
    "version": 3
   },
   "file_extension": ".py",
   "mimetype": "text/x-python",
   "name": "python",
   "nbconvert_exporter": "python",
   "pygments_lexer": "ipython3",
   "version": "3.9.12"
  }
 },
 "nbformat": 4,
 "nbformat_minor": 2
}
