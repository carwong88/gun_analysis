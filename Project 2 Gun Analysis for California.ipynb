{
 "cells": [
  {
   "cell_type": "markdown",
   "metadata": {},
   "source": [
    "# <center>Project 2: Gun Analysis in California<br><span style=\"font-size: 12px\">Udacity Data Analytic Nanodegree Project 2 - Investigate a Dataset</span></center>\n",
    "\n",
    "## Table of Contents<a id='toc'></a>\n",
    "* <a href=\"#intro\">Introduction</a>\n",
    "* <a href=\"#wrangling\">Data Wrangling</a>\n",
    "    * <a href=\"#f1\">Data Cleaning File 'gun_data.xlsx'</a>\n",
    "    * <a href=\"#f2\">Data Cleaning File 'U.S. Census Data.csv'</a>  \n",
    "* <a href=\"#eda\">Exploratory Data Analysis</a>\n",
    "    * <a href=\"#q1\">Q1: How Many Permits are Issued for Each Type of Gun in California?</a>\n",
    "    * <a href=\"#q2\">Q2: What is the trend of gun permit and background checks in California?</a>\n",
    "    * <a href=\"#q3\">Q3: How is The Growth of Gun Permit  in Relationship to the Growth of The Population?</a>\n",
    "* <a href=\"#conclusions\">Conclusions</a>\n",
    "* <a href=\"#resources\">Resources</a>"
   ]
  },
  {
   "cell_type": "markdown",
   "metadata": {},
   "source": [
    "## Introduction <a id='intro'></a><a href=\"#toc\"><span style=\"font-size: 12px\">[TOC]</span></a>\n",
    "\n",
    "The goal of this analysis is to take a deeper look into the gun permits issuing in California and whether it is related to the growth of the population. For this analysis, two datasets are used:\n",
    "1. 'gun_data.xlsx': This data comes from the FBI's National Instant Criminal Background Check System (NICS). It is used to determine whether a prospective buyer is eligible to buy firearms or explosives. Gun shops call into this system to ensure that each customer does not have a criminal record or isn’t otherwise ineligible to make a purchase. It contains the number of firearm checks by month, state, and type.\n",
    "2. 'U.S. Census Data.csv': This is the U.S. census data. It contains several variables at the state level.\n",
    "\n",
    "**Analysis Questions**\n",
    "1. How Many Permits are Issued for Each Type of Gun in California?\n",
    "2. What is the trend of gun permit and background checks in California?\n",
    "3. How is The Growth of Gun Permit  in Relationship to the Growth of The Population?"
   ]
  },
  {
   "cell_type": "markdown",
   "metadata": {},
   "source": [
    "## Data Wrangling <a id='wrangling'></a><a href=\"#toc\"><span style=\"font-size: 12px\">[TOC]</span></a>"
   ]
  },
  {
   "cell_type": "code",
   "execution_count": 387,
   "metadata": {},
   "outputs": [],
   "source": [
    "import datetime\n",
    "import pandas as pd\n",
    "import numpy as np\n",
    "import matplotlib.pyplot as plt\n",
    "import seaborn as sns\n",
    "\n",
    "%matplotlib inline"
   ]
  },
  {
   "cell_type": "markdown",
   "metadata": {},
   "source": [
    "### Data Cleaning File 'gun_data.xlsx' <a id=\"f1\"></a><a href=\"#toc\"><span style=\"font-size: 12px\">[TOC]</span></a>"
   ]
  },
  {
   "cell_type": "code",
   "execution_count": 388,
   "metadata": {},
   "outputs": [],
   "source": [
    "def get_gun_data():\n",
    "    # Read in NICS data and convert dates to datetime object\n",
    "    df_guns = pd.read_excel('gun_data.xlsx', parse_dates=[0])\n",
    "    \n",
    "    # Selecte only interested columns and row for \"Californa\"\n",
    "    df_guns_cal = df_guns.iloc[:, [0,1,2,4,5,6,7,26]]\n",
    "    df_guns_cal = df_guns_cal.loc[df_guns.state == 'California']\n",
    "\n",
    "    df_guns_cal.reset_index(inplace=True, drop=True)\n",
    "    \n",
    "    # Convert 'tatals' column to float datatype\n",
    "    df_guns_cal['totals'] = df_guns_cal['totals'].astype(float)\n",
    "    \n",
    "    return df_guns_cal"
   ]
  },
  {
   "cell_type": "code",
   "execution_count": 389,
   "metadata": {},
   "outputs": [
    {
     "data": {
      "text/html": [
       "<div>\n",
       "<style scoped>\n",
       "    .dataframe tbody tr th:only-of-type {\n",
       "        vertical-align: middle;\n",
       "    }\n",
       "\n",
       "    .dataframe tbody tr th {\n",
       "        vertical-align: top;\n",
       "    }\n",
       "\n",
       "    .dataframe thead th {\n",
       "        text-align: right;\n",
       "    }\n",
       "</style>\n",
       "<table border=\"1\" class=\"dataframe\">\n",
       "  <thead>\n",
       "    <tr style=\"text-align: right;\">\n",
       "      <th></th>\n",
       "      <th>month</th>\n",
       "      <th>state</th>\n",
       "      <th>permit</th>\n",
       "      <th>handgun</th>\n",
       "      <th>long_gun</th>\n",
       "      <th>other</th>\n",
       "      <th>multiple</th>\n",
       "      <th>totals</th>\n",
       "    </tr>\n",
       "  </thead>\n",
       "  <tbody>\n",
       "    <tr>\n",
       "      <th>0</th>\n",
       "      <td>2017-09-01</td>\n",
       "      <td>California</td>\n",
       "      <td>57839.0</td>\n",
       "      <td>37165.0</td>\n",
       "      <td>24581.0</td>\n",
       "      <td>2984.0</td>\n",
       "      <td>0</td>\n",
       "      <td>123506.0</td>\n",
       "    </tr>\n",
       "    <tr>\n",
       "      <th>1</th>\n",
       "      <td>2017-08-01</td>\n",
       "      <td>California</td>\n",
       "      <td>59528.0</td>\n",
       "      <td>41110.0</td>\n",
       "      <td>26220.0</td>\n",
       "      <td>3058.0</td>\n",
       "      <td>0</td>\n",
       "      <td>130901.0</td>\n",
       "    </tr>\n",
       "    <tr>\n",
       "      <th>2</th>\n",
       "      <td>2017-07-01</td>\n",
       "      <td>California</td>\n",
       "      <td>52610.0</td>\n",
       "      <td>37027.0</td>\n",
       "      <td>21721.0</td>\n",
       "      <td>2514.0</td>\n",
       "      <td>0</td>\n",
       "      <td>114595.0</td>\n",
       "    </tr>\n",
       "  </tbody>\n",
       "</table>\n",
       "</div>"
      ],
      "text/plain": [
       "       month       state   permit  handgun  long_gun   other  multiple  \\\n",
       "0 2017-09-01  California  57839.0  37165.0   24581.0  2984.0         0   \n",
       "1 2017-08-01  California  59528.0  41110.0   26220.0  3058.0         0   \n",
       "2 2017-07-01  California  52610.0  37027.0   21721.0  2514.0         0   \n",
       "\n",
       "     totals  \n",
       "0  123506.0  \n",
       "1  130901.0  \n",
       "2  114595.0  "
      ]
     },
     "execution_count": 389,
     "metadata": {},
     "output_type": "execute_result"
    }
   ],
   "source": [
    "df_guns_cal = get_gun_data()\n",
    "df_guns_cal.head(3)"
   ]
  },
  {
   "cell_type": "markdown",
   "metadata": {},
   "source": [
    "### Data Cleaning File 'U.S. Census Data.csv' <a id=\"f2\"></a><a href=\"#toc\"><span style=\"font-size: 12px\">[TOC]</span></a>"
   ]
  },
  {
   "cell_type": "code",
   "execution_count": 390,
   "metadata": {},
   "outputs": [],
   "source": [
    "def get_census_data():\n",
    "    df_census = pd.read_csv('U.S. Census Data.csv')\n",
    "    \n",
    "    # Select census data for California\n",
    "    df_census_cal = df_census.loc[:, ['Fact','California']]\n",
    "    \n",
    "    # Remove rows with NaN\n",
    "    df_census_cal.dropna(inplace=True)\n",
    "    \n",
    "    # Select only rows contain population\n",
    "    df_census_cal_pop = df_census_cal.loc[\n",
    "        df_census_cal.Fact.str.contains('Population estimates') | \n",
    "        df_census_cal.Fact.str.contains('Population, Census')].copy(deep=True)\n",
    "    df_census_cal_pop.reset_index(inplace=True, drop=True)\n",
    "    \n",
    "    # Add a column for date\n",
    "    mask = df_census_cal_pop.Fact.str.contains('July 1, 2016')\n",
    "    df_census_cal_pop.loc[mask, 'date'] = datetime.datetime(2016, 7, 1)\n",
    "    mask = df_census_cal_pop.Fact.str.contains('April 1, 2010')\n",
    "    df_census_cal_pop.loc[mask, 'date'] = datetime.datetime(2010, 4, 1)\n",
    "    \n",
    "    # Change the number strings to float\n",
    "    df_census_cal_pop['California'] = df_census_cal_pop['California'].str.replace(',','')\n",
    "    df_census_cal_pop['California'] = df_census_cal_pop['California'].str.replace('%','')\n",
    "    df_census_cal_pop['California'] = df_census_cal_pop.California.astype('float')\n",
    "\n",
    "    return df_census_cal_pop"
   ]
  },
  {
   "cell_type": "code",
   "execution_count": 391,
   "metadata": {},
   "outputs": [
    {
     "data": {
      "text/html": [
       "<div>\n",
       "<style scoped>\n",
       "    .dataframe tbody tr th:only-of-type {\n",
       "        vertical-align: middle;\n",
       "    }\n",
       "\n",
       "    .dataframe tbody tr th {\n",
       "        vertical-align: top;\n",
       "    }\n",
       "\n",
       "    .dataframe thead th {\n",
       "        text-align: right;\n",
       "    }\n",
       "</style>\n",
       "<table border=\"1\" class=\"dataframe\">\n",
       "  <thead>\n",
       "    <tr style=\"text-align: right;\">\n",
       "      <th></th>\n",
       "      <th>Fact</th>\n",
       "      <th>California</th>\n",
       "      <th>date</th>\n",
       "    </tr>\n",
       "  </thead>\n",
       "  <tbody>\n",
       "    <tr>\n",
       "      <th>0</th>\n",
       "      <td>Population estimates, July 1, 2016,  (V2016)</td>\n",
       "      <td>39250017.0</td>\n",
       "      <td>2016-07-01</td>\n",
       "    </tr>\n",
       "    <tr>\n",
       "      <th>1</th>\n",
       "      <td>Population estimates base, April 1, 2010,  (V2...</td>\n",
       "      <td>37254522.0</td>\n",
       "      <td>2010-04-01</td>\n",
       "    </tr>\n",
       "    <tr>\n",
       "      <th>2</th>\n",
       "      <td>Population, Census, April 1, 2010</td>\n",
       "      <td>37253956.0</td>\n",
       "      <td>2010-04-01</td>\n",
       "    </tr>\n",
       "  </tbody>\n",
       "</table>\n",
       "</div>"
      ],
      "text/plain": [
       "                                                Fact  California       date\n",
       "0       Population estimates, July 1, 2016,  (V2016)  39250017.0 2016-07-01\n",
       "1  Population estimates base, April 1, 2010,  (V2...  37254522.0 2010-04-01\n",
       "2                  Population, Census, April 1, 2010  37253956.0 2010-04-01"
      ]
     },
     "execution_count": 391,
     "metadata": {},
     "output_type": "execute_result"
    }
   ],
   "source": [
    "df_census_cal_pop = get_census_data()\n",
    "df_census_cal_pop.head(3)"
   ]
  },
  {
   "cell_type": "markdown",
   "metadata": {},
   "source": [
    "## Exploratory Data Analysis <a id='eda'></a><a href=\"#toc\"><span style=\"font-size: 12px\">[TOC]</span></a>"
   ]
  },
  {
   "cell_type": "markdown",
   "metadata": {},
   "source": [
    "### Q1: How Many Permits are Issued for Each Type of Gun in California? <a id=\"q1\"></a><a href=\"#toc\"><span style=\"font-size: 12px\">[TOC]</span></a>"
   ]
  },
  {
   "cell_type": "code",
   "execution_count": 392,
   "metadata": {},
   "outputs": [],
   "source": [
    "def clean_gun_for_analysis(df):\n",
    "    df_guns_cal = df\n",
    "    \n",
    "    # Remove year 2017 rows, it doesn't contain a full year data; contain only up to September 2017\n",
    "    rows_2017 = df_guns_cal[df_guns_cal.month.dt.year == 2017].index\n",
    "    df_guns_cal.drop(rows_2017, inplace=True)\n",
    "\n",
    "    # Remove year 1998 rows, it doesn't contain a full year data; only contain Nov and Dec data\n",
    "    rows_1998 = df_guns_cal[df_guns_cal.month.dt.year == 1998].index\n",
    "    df_guns_cal.drop(rows_1998, inplace=True)\n",
    "    \n",
    "    # Rename column 'totals' to 'background_check'\n",
    "    df_guns_cal.columns = ['month', 'state', 'permit', 'handgun', \n",
    "                           'long gun', 'other', 'multiple', 'background check']\n",
    "    \n",
    "    # Fill NaN with mean\n",
    "    df_guns_cal.other = df_guns_cal.other.fillna(df_guns_cal.other.mean())\n",
    "\n",
    "    return df_guns_cal"
   ]
  },
  {
   "cell_type": "code",
   "execution_count": 393,
   "metadata": {},
   "outputs": [],
   "source": [
    "df_guns_cal = clean_gun_for_analysis(df_guns_cal)"
   ]
  },
  {
   "cell_type": "code",
   "execution_count": 394,
   "metadata": {},
   "outputs": [
    {
     "data": {
      "text/html": [
       "<div>\n",
       "<style scoped>\n",
       "    .dataframe tbody tr th:only-of-type {\n",
       "        vertical-align: middle;\n",
       "    }\n",
       "\n",
       "    .dataframe tbody tr th {\n",
       "        vertical-align: top;\n",
       "    }\n",
       "\n",
       "    .dataframe thead th {\n",
       "        text-align: right;\n",
       "    }\n",
       "</style>\n",
       "<table border=\"1\" class=\"dataframe\">\n",
       "  <thead>\n",
       "    <tr style=\"text-align: right;\">\n",
       "      <th></th>\n",
       "      <th>year</th>\n",
       "      <th>permit</th>\n",
       "      <th>handgun</th>\n",
       "      <th>long gun</th>\n",
       "      <th>other</th>\n",
       "      <th>multiple</th>\n",
       "      <th>background check</th>\n",
       "    </tr>\n",
       "  </thead>\n",
       "  <tbody>\n",
       "    <tr>\n",
       "      <th>0</th>\n",
       "      <td>1999</td>\n",
       "      <td>101132.0</td>\n",
       "      <td>371893.0</td>\n",
       "      <td>410119.0</td>\n",
       "      <td>41752.615385</td>\n",
       "      <td>0</td>\n",
       "      <td>883144.0</td>\n",
       "    </tr>\n",
       "    <tr>\n",
       "      <th>1</th>\n",
       "      <td>2000</td>\n",
       "      <td>163145.0</td>\n",
       "      <td>328615.0</td>\n",
       "      <td>302746.0</td>\n",
       "      <td>41752.615385</td>\n",
       "      <td>0</td>\n",
       "      <td>794506.0</td>\n",
       "    </tr>\n",
       "    <tr>\n",
       "      <th>2</th>\n",
       "      <td>2001</td>\n",
       "      <td>236271.0</td>\n",
       "      <td>280044.0</td>\n",
       "      <td>338251.0</td>\n",
       "      <td>41752.615385</td>\n",
       "      <td>0</td>\n",
       "      <td>854569.0</td>\n",
       "    </tr>\n",
       "  </tbody>\n",
       "</table>\n",
       "</div>"
      ],
      "text/plain": [
       "   year    permit   handgun  long gun         other  multiple  \\\n",
       "0  1999  101132.0  371893.0  410119.0  41752.615385         0   \n",
       "1  2000  163145.0  328615.0  302746.0  41752.615385         0   \n",
       "2  2001  236271.0  280044.0  338251.0  41752.615385         0   \n",
       "\n",
       "   background check  \n",
       "0          883144.0  \n",
       "1          794506.0  \n",
       "2          854569.0  "
      ]
     },
     "execution_count": 394,
     "metadata": {},
     "output_type": "execute_result"
    }
   ],
   "source": [
    "# Aggregate gun data by year\n",
    "df_guns_grp = df_guns_cal.groupby([df_guns_cal['month'].dt.year.rename('year')]).sum().copy(deep=True)\n",
    "df_guns_grp.reset_index(inplace=True)\n",
    "df_guns_grp.head(3)"
   ]
  },
  {
   "cell_type": "code",
   "execution_count": 395,
   "metadata": {},
   "outputs": [
    {
     "data": {
      "text/html": [
       "<div>\n",
       "<style scoped>\n",
       "    .dataframe tbody tr th:only-of-type {\n",
       "        vertical-align: middle;\n",
       "    }\n",
       "\n",
       "    .dataframe tbody tr th {\n",
       "        vertical-align: top;\n",
       "    }\n",
       "\n",
       "    .dataframe thead th {\n",
       "        text-align: right;\n",
       "    }\n",
       "</style>\n",
       "<table border=\"1\" class=\"dataframe\">\n",
       "  <thead>\n",
       "    <tr style=\"text-align: right;\">\n",
       "      <th></th>\n",
       "      <th>permit</th>\n",
       "      <th>handgun</th>\n",
       "      <th>long gun</th>\n",
       "      <th>other</th>\n",
       "      <th>multiple</th>\n",
       "      <th>background check</th>\n",
       "    </tr>\n",
       "    <tr>\n",
       "      <th>year</th>\n",
       "      <th></th>\n",
       "      <th></th>\n",
       "      <th></th>\n",
       "      <th></th>\n",
       "      <th></th>\n",
       "      <th></th>\n",
       "    </tr>\n",
       "  </thead>\n",
       "  <tbody>\n",
       "    <tr>\n",
       "      <th>1999</th>\n",
       "      <td>8427.666667</td>\n",
       "      <td>30991.083333</td>\n",
       "      <td>34176.583333</td>\n",
       "      <td>3479.384615</td>\n",
       "      <td>0.0</td>\n",
       "      <td>73595.333333</td>\n",
       "    </tr>\n",
       "    <tr>\n",
       "      <th>2000</th>\n",
       "      <td>13595.416667</td>\n",
       "      <td>27384.583333</td>\n",
       "      <td>25228.833333</td>\n",
       "      <td>3479.384615</td>\n",
       "      <td>0.0</td>\n",
       "      <td>66208.833333</td>\n",
       "    </tr>\n",
       "    <tr>\n",
       "      <th>2001</th>\n",
       "      <td>19689.250000</td>\n",
       "      <td>23337.000000</td>\n",
       "      <td>28187.583333</td>\n",
       "      <td>3479.384615</td>\n",
       "      <td>0.0</td>\n",
       "      <td>71214.083333</td>\n",
       "    </tr>\n",
       "  </tbody>\n",
       "</table>\n",
       "</div>"
      ],
      "text/plain": [
       "            permit       handgun      long gun        other  multiple  \\\n",
       "year                                                                    \n",
       "1999   8427.666667  30991.083333  34176.583333  3479.384615       0.0   \n",
       "2000  13595.416667  27384.583333  25228.833333  3479.384615       0.0   \n",
       "2001  19689.250000  23337.000000  28187.583333  3479.384615       0.0   \n",
       "\n",
       "      background check  \n",
       "year                    \n",
       "1999      73595.333333  \n",
       "2000      66208.833333  \n",
       "2001      71214.083333  "
      ]
     },
     "execution_count": 395,
     "metadata": {},
     "output_type": "execute_result"
    }
   ],
   "source": [
    "# Average gun data for each year\n",
    "df_guns_grp_mean = df_guns_cal.groupby([df_guns_cal['month'].dt.year.rename('year')]).mean()\n",
    "df_guns_grp_mean.head(3)"
   ]
  },
  {
   "cell_type": "code",
   "execution_count": 396,
   "metadata": {
    "scrolled": true
   },
   "outputs": [
    {
     "data": {
      "image/png": "[encoded data removed]",
      "text/plain": [
       "<Figure size 936x288 with 4 Axes>"
      ]
     },
     "metadata": {
      "needs_background": "light"
     },
     "output_type": "display_data"
    }
   ],
   "source": [
    "# Explore individual types of gun\n",
    "fig , [[ax1, ax2], [ax3, ax4]] = plt.subplots(nrows=2, ncols=2, figsize=(13,4), \n",
    "                                              sharey=True, sharex=True)\n",
    "\n",
    "titles = ['Average Gun Permit for California', '(1999 - 2016)']\n",
    "fig.suptitle('\\n'.join(titles), y=1.1, fontsize=17)\n",
    "\n",
    "x = df_guns_grp_mean.index\n",
    "\n",
    "y = df_guns_grp_mean.handgun\n",
    "ax1.scatter(x, y);\n",
    "ax1.set_title('Hand Gun');\n",
    "ax1.set_ylabel('Average');\n",
    "\n",
    "y = df_guns_grp_mean['long gun']\n",
    "ax2.scatter(x, y);\n",
    "ax2.set_title('Long Gun');\n",
    "\n",
    "y = df_guns_grp_mean['other']\n",
    "ax3.scatter(x, y);\n",
    "ax3.set_title('Other');\n",
    "ax3.set_ylabel('Average');\n",
    "ax3.set_xlabel('Year');\n",
    "\n",
    "y = df_guns_grp_mean['multiple']\n",
    "ax4.scatter(x, y);\n",
    "ax4.set_title('Multiple');\n",
    "ax4.set_xlabel('Year');"
   ]
  },
  {
   "cell_type": "markdown",
   "metadata": {},
   "source": [
    "<center style=\"display:inline-block; padding-left:55px\"><i style=\"color: blue\">The reason for this graph is to look at the trend of gun permit for each type of guns over the 17 years period.</i></center>"
   ]
  },
  {
   "cell_type": "code",
   "execution_count": 397,
   "metadata": {},
   "outputs": [
    {
     "data": {
      "text/plain": [
       "count       18.000000\n",
       "mean     27747.069444\n",
       "std      21118.520953\n",
       "min       8427.666667\n",
       "25%      13787.229167\n",
       "50%      23184.625000\n",
       "75%      27700.187500\n",
       "max      86415.083333\n",
       "Name: permit, dtype: float64"
      ]
     },
     "execution_count": 397,
     "metadata": {},
     "output_type": "execute_result"
    }
   ],
   "source": [
    "# Explore average gun permit distribution\n",
    "df_guns_grp_mean.permit.describe()"
   ]
  },
  {
   "cell_type": "code",
   "execution_count": 398,
   "metadata": {},
   "outputs": [
    {
     "data": {
      "image/png": "[encoded data removed]",
      "text/plain": [
       "<Figure size 432x288 with 1 Axes>"
      ]
     },
     "metadata": {
      "needs_background": "light"
     },
     "output_type": "display_data"
    }
   ],
   "source": [
    "# Plotting average gun permit distribution\n",
    "fig , ax = plt.subplots()\n",
    "\n",
    "titles = ['Average Gun Permit for California', '(1999 - 2016)']\n",
    "fig.suptitle('\\n'.join(titles))\n",
    "\n",
    "y = df_guns_grp_mean.permit\n",
    "ax.boxplot(y);\n",
    "ax.set_xlabel('Permit');\n",
    "ax.set_ylabel('Average');\n"
   ]
  },
  {
   "cell_type": "markdown",
   "metadata": {},
   "source": [
    "<i style=\"color: blue\">&nbsp;&nbsp;&nbsp;&nbsp;&nbsp;&nbsp;&nbsp;&nbsp;The reason for this graph is to look at the distribution of gun permit.</i>"
   ]
  },
  {
   "cell_type": "code",
   "execution_count": 399,
   "metadata": {},
   "outputs": [
    {
     "data": {
      "text/plain": [
       "count        18.000000\n",
       "mean      82310.601852\n",
       "std       39974.331041\n",
       "min       43702.583333\n",
       "25%       59032.666667\n",
       "50%       69623.666667\n",
       "75%       89656.458333\n",
       "max      198097.250000\n",
       "Name: background check, dtype: float64"
      ]
     },
     "execution_count": 399,
     "metadata": {},
     "output_type": "execute_result"
    }
   ],
   "source": [
    "# Explore average background check distribution\n",
    "df_guns_grp_mean['background check'].describe()"
   ]
  },
  {
   "cell_type": "code",
   "execution_count": 422,
   "metadata": {},
   "outputs": [
    {
     "data": {
      "image/png": "[encoded data removed]",
      "text/plain": [
       "<Figure size 432x288 with 1 Axes>"
      ]
     },
     "metadata": {
      "needs_background": "light"
     },
     "output_type": "display_data"
    }
   ],
   "source": [
    "# Plotting average background check distribution\n",
    "fig , ax = plt.subplots()\n",
    "\n",
    "titles = ['Average Background Check for California', '(1999 - 2016)']\n",
    "fig.suptitle('\\n'.join(titles))\n",
    "\n",
    "y = df_guns_grp_mean['background check']\n",
    "ax.boxplot(y);\n",
    "ax.set_xlabel('Background Check');\n",
    "ax.set_ylabel('Average');"
   ]
  },
  {
   "cell_type": "markdown",
   "metadata": {},
   "source": [
    "<i style=\"color: blue\">&nbsp;&nbsp;&nbsp;The reason for this graph is to look at the distribution of background check.</i>"
   ]
  },
  {
   "cell_type": "code",
   "execution_count": 401,
   "metadata": {},
   "outputs": [
    {
     "data": {
      "text/html": [
       "<div>\n",
       "<style scoped>\n",
       "    .dataframe tbody tr th:only-of-type {\n",
       "        vertical-align: middle;\n",
       "    }\n",
       "\n",
       "    .dataframe tbody tr th {\n",
       "        vertical-align: top;\n",
       "    }\n",
       "\n",
       "    .dataframe thead th {\n",
       "        text-align: right;\n",
       "    }\n",
       "</style>\n",
       "<table border=\"1\" class=\"dataframe\">\n",
       "  <thead>\n",
       "    <tr style=\"text-align: right;\">\n",
       "      <th></th>\n",
       "      <th>year</th>\n",
       "      <th>types</th>\n",
       "      <th>total</th>\n",
       "    </tr>\n",
       "  </thead>\n",
       "  <tbody>\n",
       "    <tr>\n",
       "      <th>0</th>\n",
       "      <td>1999</td>\n",
       "      <td>handgun</td>\n",
       "      <td>371893.0</td>\n",
       "    </tr>\n",
       "    <tr>\n",
       "      <th>1</th>\n",
       "      <td>2000</td>\n",
       "      <td>handgun</td>\n",
       "      <td>328615.0</td>\n",
       "    </tr>\n",
       "    <tr>\n",
       "      <th>2</th>\n",
       "      <td>2001</td>\n",
       "      <td>handgun</td>\n",
       "      <td>280044.0</td>\n",
       "    </tr>\n",
       "  </tbody>\n",
       "</table>\n",
       "</div>"
      ],
      "text/plain": [
       "   year    types     total\n",
       "0  1999  handgun  371893.0\n",
       "1  2000  handgun  328615.0\n",
       "2  2001  handgun  280044.0"
      ]
     },
     "execution_count": 401,
     "metadata": {},
     "output_type": "execute_result"
    }
   ],
   "source": [
    "# Change the dataframe to a long form for plotting\n",
    "df_guns_melted = pd.melt(df_guns_grp, id_vars=[\"year\"], value_vars=['handgun', 'long gun', 'other', 'multiple'],\n",
    "                        var_name='types', value_name='total')\n",
    "df_guns_melted.head(3)"
   ]
  },
  {
   "cell_type": "code",
   "execution_count": 423,
   "metadata": {},
   "outputs": [
    {
     "data": {
      "image/png": "[encoded data removed]",
      "text/plain": [
       "<Figure size 936x360 with 1 Axes>"
      ]
     },
     "metadata": {
      "needs_background": "light"
     },
     "output_type": "display_data"
    }
   ],
   "source": [
    "fig , ax = plt.subplots(figsize=(13,5))\n",
    "sns.barplot(data=df_guns_melted, y='total', x='year', hue='types', ax=ax);\n",
    "\n",
    "title = ['Gun Permit in California', '(1999 to 2016)',]\n",
    "ax.set_title(\n",
    "    '\\n'.join(title),\n",
    "    fontsize='large',\n",
    "    loc='center',\n",
    "    fontweight='bold',\n",
    "    style='italic',\n",
    "    family='monospace');\n",
    "\n",
    "ax.set_xlabel(\n",
    "    'Years', \n",
    "    fontsize='large');\n",
    "\n",
    "ax.set_ylabel(\n",
    "    'Total', \n",
    "    fontsize='large');"
   ]
  },
  {
   "cell_type": "markdown",
   "metadata": {},
   "source": [
    "<center style=\"display:inline-block; padding-left:55px\"><i style=\"color: blue\">The reason for this graph is to compare the trend of different gun types over the 17 years timeframe.</i></center>"
   ]
  },
  {
   "cell_type": "markdown",
   "metadata": {},
   "source": [
    "### Q2: What is the trend of gun permit and background checks in California? <a id='q2'></a><a href=\"#toc\"><span style=\"font-size: 12px\">[TOC]</span></a>"
   ]
  },
  {
   "cell_type": "code",
   "execution_count": 403,
   "metadata": {},
   "outputs": [
    {
     "data": {
      "text/html": [
       "<div>\n",
       "<style scoped>\n",
       "    .dataframe tbody tr th:only-of-type {\n",
       "        vertical-align: middle;\n",
       "    }\n",
       "\n",
       "    .dataframe tbody tr th {\n",
       "        vertical-align: top;\n",
       "    }\n",
       "\n",
       "    .dataframe thead th {\n",
       "        text-align: right;\n",
       "    }\n",
       "</style>\n",
       "<table border=\"1\" class=\"dataframe\">\n",
       "  <thead>\n",
       "    <tr style=\"text-align: right;\">\n",
       "      <th></th>\n",
       "      <th>year</th>\n",
       "      <th>types</th>\n",
       "      <th>total</th>\n",
       "    </tr>\n",
       "  </thead>\n",
       "  <tbody>\n",
       "    <tr>\n",
       "      <th>0</th>\n",
       "      <td>1999</td>\n",
       "      <td>permit</td>\n",
       "      <td>101132.0</td>\n",
       "    </tr>\n",
       "    <tr>\n",
       "      <th>1</th>\n",
       "      <td>2000</td>\n",
       "      <td>permit</td>\n",
       "      <td>163145.0</td>\n",
       "    </tr>\n",
       "    <tr>\n",
       "      <th>2</th>\n",
       "      <td>2001</td>\n",
       "      <td>permit</td>\n",
       "      <td>236271.0</td>\n",
       "    </tr>\n",
       "  </tbody>\n",
       "</table>\n",
       "</div>"
      ],
      "text/plain": [
       "   year   types     total\n",
       "0  1999  permit  101132.0\n",
       "1  2000  permit  163145.0\n",
       "2  2001  permit  236271.0"
      ]
     },
     "execution_count": 403,
     "metadata": {},
     "output_type": "execute_result"
    }
   ],
   "source": [
    "# Melt permit and background checks for plotting\n",
    "df_permit_melted = pd.melt(df_guns_grp, id_vars=[\"year\"], value_vars=['permit', 'background check'],\n",
    "                        var_name='types', value_name='total')\n",
    "df_permit_melted.head(3)"
   ]
  },
  {
   "cell_type": "code",
   "execution_count": 404,
   "metadata": {},
   "outputs": [
    {
     "data": {
      "image/png": "[encoded data removed]",
      "text/plain": [
       "<Figure size 936x576 with 1 Axes>"
      ]
     },
     "metadata": {
      "needs_background": "light"
     },
     "output_type": "display_data"
    }
   ],
   "source": [
    "# Plotting for permits and background check\n",
    "fig , ax = plt.subplots(figsize=(13,8))\n",
    "sns.lineplot(data=df_permit_melted, y='total', x='year', hue='types', ax=ax);\n",
    "\n",
    "ax.set_title(\n",
    "    \"Gun Permit and Backgroun-Check in California\\n(1999 to 2016)\",\n",
    "    fontsize='large',\n",
    "    loc='center',\n",
    "    fontweight='bold',\n",
    "    style='italic',\n",
    "    family='monospace')\n",
    "    \n",
    "ax.set_xlabel(\n",
    "    'Years', \n",
    "    fontsize='large')\n",
    "\n",
    "ax.set_ylabel(\n",
    "    'Total in 100K', \n",
    "    fontsize='large')\n",
    "\n",
    "t = np.arange(df_permit_melted.total.min(), df_permit_melted.total.max(), 100000)\n",
    "ax.set_yticks(t);"
   ]
  },
  {
   "cell_type": "markdown",
   "metadata": {},
   "source": [
    "<center style=\"display:inline-block; padding-left:55px\"><i style=\"color: blue\">The reason for this graph is to compare the trend of gun permit in relate to background check.<br>This can be infer that multiple transactions take place with each permit.</i></center>"
   ]
  },
  {
   "cell_type": "markdown",
   "metadata": {},
   "source": [
    "### Q3: How is The Growth of Gun Permit  in Relationship to the Growth of The Population? <a id=\"q3\"></a><a href=\"#toc\"><span style=\"font-size: 12px\">[TOC]</span></a>"
   ]
  },
  {
   "cell_type": "code",
   "execution_count": 405,
   "metadata": {},
   "outputs": [
    {
     "data": {
      "text/html": [
       "<div>\n",
       "<style scoped>\n",
       "    .dataframe tbody tr th:only-of-type {\n",
       "        vertical-align: middle;\n",
       "    }\n",
       "\n",
       "    .dataframe tbody tr th {\n",
       "        vertical-align: top;\n",
       "    }\n",
       "\n",
       "    .dataframe thead th {\n",
       "        text-align: right;\n",
       "    }\n",
       "</style>\n",
       "<table border=\"1\" class=\"dataframe\">\n",
       "  <thead>\n",
       "    <tr style=\"text-align: right;\">\n",
       "      <th></th>\n",
       "      <th>Fact</th>\n",
       "      <th>California</th>\n",
       "      <th>date</th>\n",
       "    </tr>\n",
       "  </thead>\n",
       "  <tbody>\n",
       "    <tr>\n",
       "      <th>0</th>\n",
       "      <td>Population estimates, July 1, 2016,  (V2016)</td>\n",
       "      <td>39250017.0</td>\n",
       "      <td>2016-07-01</td>\n",
       "    </tr>\n",
       "    <tr>\n",
       "      <th>1</th>\n",
       "      <td>Population estimates base, April 1, 2010,  (V2...</td>\n",
       "      <td>37254522.0</td>\n",
       "      <td>2010-04-01</td>\n",
       "    </tr>\n",
       "    <tr>\n",
       "      <th>2</th>\n",
       "      <td>Population, Census, April 1, 2010</td>\n",
       "      <td>37253956.0</td>\n",
       "      <td>2010-04-01</td>\n",
       "    </tr>\n",
       "  </tbody>\n",
       "</table>\n",
       "</div>"
      ],
      "text/plain": [
       "                                                Fact  California       date\n",
       "0       Population estimates, July 1, 2016,  (V2016)  39250017.0 2016-07-01\n",
       "1  Population estimates base, April 1, 2010,  (V2...  37254522.0 2010-04-01\n",
       "2                  Population, Census, April 1, 2010  37253956.0 2010-04-01"
      ]
     },
     "execution_count": 405,
     "metadata": {},
     "output_type": "execute_result"
    }
   ],
   "source": [
    "# California census data\n",
    "df_census_cal_pop.head(3)"
   ]
  },
  {
   "cell_type": "code",
   "execution_count": 406,
   "metadata": {},
   "outputs": [
    {
     "data": {
      "text/html": [
       "<div>\n",
       "<style scoped>\n",
       "    .dataframe tbody tr th:only-of-type {\n",
       "        vertical-align: middle;\n",
       "    }\n",
       "\n",
       "    .dataframe tbody tr th {\n",
       "        vertical-align: top;\n",
       "    }\n",
       "\n",
       "    .dataframe thead th {\n",
       "        text-align: right;\n",
       "    }\n",
       "</style>\n",
       "<table border=\"1\" class=\"dataframe\">\n",
       "  <thead>\n",
       "    <tr style=\"text-align: right;\">\n",
       "      <th></th>\n",
       "      <th>fact</th>\n",
       "      <th>population</th>\n",
       "      <th>month</th>\n",
       "    </tr>\n",
       "  </thead>\n",
       "  <tbody>\n",
       "    <tr>\n",
       "      <th>0</th>\n",
       "      <td>Population estimates, July 1, 2016,  (V2016)</td>\n",
       "      <td>39250017.0</td>\n",
       "      <td>2016-07-01</td>\n",
       "    </tr>\n",
       "    <tr>\n",
       "      <th>2</th>\n",
       "      <td>Population, Census, April 1, 2010</td>\n",
       "      <td>37253956.0</td>\n",
       "      <td>2010-04-01</td>\n",
       "    </tr>\n",
       "  </tbody>\n",
       "</table>\n",
       "</div>"
      ],
      "text/plain": [
       "                                           fact  population      month\n",
       "0  Population estimates, July 1, 2016,  (V2016)  39250017.0 2016-07-01\n",
       "2             Population, Census, April 1, 2010  37253956.0 2010-04-01"
      ]
     },
     "execution_count": 406,
     "metadata": {},
     "output_type": "execute_result"
    }
   ],
   "source": [
    "# Select population data for two months (07/2016, and 4/2010)\n",
    "df_pop_2mons = df_census_cal_pop.iloc[[0,2],:]\n",
    "df_pop_2mons.columns = ['fact', 'population', 'month']\n",
    "df_pop_2mons"
   ]
  },
  {
   "cell_type": "code",
   "execution_count": 407,
   "metadata": {},
   "outputs": [
    {
     "data": {
      "text/html": [
       "<div>\n",
       "<style scoped>\n",
       "    .dataframe tbody tr th:only-of-type {\n",
       "        vertical-align: middle;\n",
       "    }\n",
       "\n",
       "    .dataframe tbody tr th {\n",
       "        vertical-align: top;\n",
       "    }\n",
       "\n",
       "    .dataframe thead th {\n",
       "        text-align: right;\n",
       "    }\n",
       "</style>\n",
       "<table border=\"1\" class=\"dataframe\">\n",
       "  <thead>\n",
       "    <tr style=\"text-align: right;\">\n",
       "      <th></th>\n",
       "      <th>month</th>\n",
       "      <th>state</th>\n",
       "      <th>permit</th>\n",
       "      <th>handgun</th>\n",
       "      <th>long gun</th>\n",
       "      <th>other</th>\n",
       "      <th>multiple</th>\n",
       "      <th>background check</th>\n",
       "    </tr>\n",
       "  </thead>\n",
       "  <tbody>\n",
       "    <tr>\n",
       "      <th>9</th>\n",
       "      <td>2016-12-01</td>\n",
       "      <td>California</td>\n",
       "      <td>61808.0</td>\n",
       "      <td>63649.0</td>\n",
       "      <td>93224.0</td>\n",
       "      <td>77929.0</td>\n",
       "      <td>0</td>\n",
       "      <td>298161.0</td>\n",
       "    </tr>\n",
       "    <tr>\n",
       "      <th>10</th>\n",
       "      <td>2016-11-01</td>\n",
       "      <td>California</td>\n",
       "      <td>53278.0</td>\n",
       "      <td>56932.0</td>\n",
       "      <td>82554.0</td>\n",
       "      <td>30133.0</td>\n",
       "      <td>0</td>\n",
       "      <td>224039.0</td>\n",
       "    </tr>\n",
       "    <tr>\n",
       "      <th>11</th>\n",
       "      <td>2016-10-01</td>\n",
       "      <td>California</td>\n",
       "      <td>60578.0</td>\n",
       "      <td>45785.0</td>\n",
       "      <td>54333.0</td>\n",
       "      <td>19226.0</td>\n",
       "      <td>0</td>\n",
       "      <td>180968.0</td>\n",
       "    </tr>\n",
       "  </tbody>\n",
       "</table>\n",
       "</div>"
      ],
      "text/plain": [
       "        month       state   permit  handgun  long gun    other  multiple  \\\n",
       "9  2016-12-01  California  61808.0  63649.0   93224.0  77929.0         0   \n",
       "10 2016-11-01  California  53278.0  56932.0   82554.0  30133.0         0   \n",
       "11 2016-10-01  California  60578.0  45785.0   54333.0  19226.0         0   \n",
       "\n",
       "    background check  \n",
       "9           298161.0  \n",
       "10          224039.0  \n",
       "11          180968.0  "
      ]
     },
     "execution_count": 407,
     "metadata": {},
     "output_type": "execute_result"
    }
   ],
   "source": [
    "# California gun data\n",
    "df_guns_cal.head(3)"
   ]
  },
  {
   "cell_type": "code",
   "execution_count": 408,
   "metadata": {},
   "outputs": [
    {
     "data": {
      "text/html": [
       "<div>\n",
       "<style scoped>\n",
       "    .dataframe tbody tr th:only-of-type {\n",
       "        vertical-align: middle;\n",
       "    }\n",
       "\n",
       "    .dataframe tbody tr th {\n",
       "        vertical-align: top;\n",
       "    }\n",
       "\n",
       "    .dataframe thead th {\n",
       "        text-align: right;\n",
       "    }\n",
       "</style>\n",
       "<table border=\"1\" class=\"dataframe\">\n",
       "  <thead>\n",
       "    <tr style=\"text-align: right;\">\n",
       "      <th></th>\n",
       "      <th>month</th>\n",
       "      <th>state</th>\n",
       "      <th>permit</th>\n",
       "      <th>handgun</th>\n",
       "      <th>long gun</th>\n",
       "      <th>other</th>\n",
       "      <th>multiple</th>\n",
       "      <th>background check</th>\n",
       "    </tr>\n",
       "  </thead>\n",
       "  <tbody>\n",
       "    <tr>\n",
       "      <th>14</th>\n",
       "      <td>2016-07-01</td>\n",
       "      <td>California</td>\n",
       "      <td>77962.0</td>\n",
       "      <td>46361.0</td>\n",
       "      <td>47594.0</td>\n",
       "      <td>17297.0</td>\n",
       "      <td>0</td>\n",
       "      <td>190218.0</td>\n",
       "    </tr>\n",
       "    <tr>\n",
       "      <th>89</th>\n",
       "      <td>2010-04-01</td>\n",
       "      <td>California</td>\n",
       "      <td>26930.0</td>\n",
       "      <td>26170.0</td>\n",
       "      <td>27650.0</td>\n",
       "      <td>0.0</td>\n",
       "      <td>0</td>\n",
       "      <td>80750.0</td>\n",
       "    </tr>\n",
       "  </tbody>\n",
       "</table>\n",
       "</div>"
      ],
      "text/plain": [
       "        month       state   permit  handgun  long gun    other  multiple  \\\n",
       "14 2016-07-01  California  77962.0  46361.0   47594.0  17297.0         0   \n",
       "89 2010-04-01  California  26930.0  26170.0   27650.0      0.0         0   \n",
       "\n",
       "    background check  \n",
       "14          190218.0  \n",
       "89           80750.0  "
      ]
     },
     "execution_count": 408,
     "metadata": {},
     "output_type": "execute_result"
    }
   ],
   "source": [
    "# Select gun data for the same two months (07/2016, and 4/2010) to compare with the population\n",
    "df_rel = df_guns_cal.loc[(df_guns_cal.month=='2016-07-01') | (df_guns_cal.month=='2010-04-01')]\n",
    "df_rel"
   ]
  },
  {
   "cell_type": "code",
   "execution_count": 409,
   "metadata": {},
   "outputs": [
    {
     "data": {
      "text/html": [
       "<div>\n",
       "<style scoped>\n",
       "    .dataframe tbody tr th:only-of-type {\n",
       "        vertical-align: middle;\n",
       "    }\n",
       "\n",
       "    .dataframe tbody tr th {\n",
       "        vertical-align: top;\n",
       "    }\n",
       "\n",
       "    .dataframe thead th {\n",
       "        text-align: right;\n",
       "    }\n",
       "</style>\n",
       "<table border=\"1\" class=\"dataframe\">\n",
       "  <thead>\n",
       "    <tr style=\"text-align: right;\">\n",
       "      <th></th>\n",
       "      <th>month</th>\n",
       "      <th>state</th>\n",
       "      <th>permit</th>\n",
       "      <th>handgun</th>\n",
       "      <th>long gun</th>\n",
       "      <th>other</th>\n",
       "      <th>multiple</th>\n",
       "      <th>background check</th>\n",
       "      <th>fact</th>\n",
       "      <th>population</th>\n",
       "    </tr>\n",
       "  </thead>\n",
       "  <tbody>\n",
       "    <tr>\n",
       "      <th>0</th>\n",
       "      <td>2016-07-01</td>\n",
       "      <td>California</td>\n",
       "      <td>77962.0</td>\n",
       "      <td>46361.0</td>\n",
       "      <td>47594.0</td>\n",
       "      <td>17297.0</td>\n",
       "      <td>0</td>\n",
       "      <td>190218.0</td>\n",
       "      <td>Population estimates, July 1, 2016,  (V2016)</td>\n",
       "      <td>39250017.0</td>\n",
       "    </tr>\n",
       "    <tr>\n",
       "      <th>1</th>\n",
       "      <td>2010-04-01</td>\n",
       "      <td>California</td>\n",
       "      <td>26930.0</td>\n",
       "      <td>26170.0</td>\n",
       "      <td>27650.0</td>\n",
       "      <td>0.0</td>\n",
       "      <td>0</td>\n",
       "      <td>80750.0</td>\n",
       "      <td>Population, Census, April 1, 2010</td>\n",
       "      <td>37253956.0</td>\n",
       "    </tr>\n",
       "  </tbody>\n",
       "</table>\n",
       "</div>"
      ],
      "text/plain": [
       "       month       state   permit  handgun  long gun    other  multiple  \\\n",
       "0 2016-07-01  California  77962.0  46361.0   47594.0  17297.0         0   \n",
       "1 2010-04-01  California  26930.0  26170.0   27650.0      0.0         0   \n",
       "\n",
       "   background check                                          fact  population  \n",
       "0          190218.0  Population estimates, July 1, 2016,  (V2016)  39250017.0  \n",
       "1           80750.0             Population, Census, April 1, 2010  37253956.0  "
      ]
     },
     "execution_count": 409,
     "metadata": {},
     "output_type": "execute_result"
    }
   ],
   "source": [
    "# Merge the gun data and popolation data\n",
    "df_merged = pd.merge(df_rel, df_pop_2mons, on='month')\n",
    "df_merged"
   ]
  },
  {
   "cell_type": "code",
   "execution_count": 410,
   "metadata": {},
   "outputs": [
    {
     "data": {
      "text/html": [
       "<div>\n",
       "<style scoped>\n",
       "    .dataframe tbody tr th:only-of-type {\n",
       "        vertical-align: middle;\n",
       "    }\n",
       "\n",
       "    .dataframe tbody tr th {\n",
       "        vertical-align: top;\n",
       "    }\n",
       "\n",
       "    .dataframe thead th {\n",
       "        text-align: right;\n",
       "    }\n",
       "</style>\n",
       "<table border=\"1\" class=\"dataframe\">\n",
       "  <thead>\n",
       "    <tr style=\"text-align: right;\">\n",
       "      <th></th>\n",
       "      <th>month</th>\n",
       "      <th>state</th>\n",
       "      <th>permit</th>\n",
       "      <th>handgun</th>\n",
       "      <th>long gun</th>\n",
       "      <th>other</th>\n",
       "      <th>multiple</th>\n",
       "      <th>background check</th>\n",
       "      <th>population</th>\n",
       "    </tr>\n",
       "  </thead>\n",
       "  <tbody>\n",
       "    <tr>\n",
       "      <th>0</th>\n",
       "      <td>2016-07-01</td>\n",
       "      <td>California</td>\n",
       "      <td>77962.0</td>\n",
       "      <td>46361.0</td>\n",
       "      <td>47594.0</td>\n",
       "      <td>17297.0</td>\n",
       "      <td>0</td>\n",
       "      <td>190218.0</td>\n",
       "      <td>39250017.0</td>\n",
       "    </tr>\n",
       "    <tr>\n",
       "      <th>1</th>\n",
       "      <td>2010-04-01</td>\n",
       "      <td>California</td>\n",
       "      <td>26930.0</td>\n",
       "      <td>26170.0</td>\n",
       "      <td>27650.0</td>\n",
       "      <td>0.0</td>\n",
       "      <td>0</td>\n",
       "      <td>80750.0</td>\n",
       "      <td>37253956.0</td>\n",
       "    </tr>\n",
       "  </tbody>\n",
       "</table>\n",
       "</div>"
      ],
      "text/plain": [
       "       month       state   permit  handgun  long gun    other  multiple  \\\n",
       "0 2016-07-01  California  77962.0  46361.0   47594.0  17297.0         0   \n",
       "1 2010-04-01  California  26930.0  26170.0   27650.0      0.0         0   \n",
       "\n",
       "   background check  population  \n",
       "0          190218.0  39250017.0  \n",
       "1           80750.0  37253956.0  "
      ]
     },
     "execution_count": 410,
     "metadata": {},
     "output_type": "execute_result"
    }
   ],
   "source": [
    "# Drop column 'fact'\n",
    "df_merged.drop(['fact'], axis=1, inplace=True)\n",
    "df_merged"
   ]
  },
  {
   "cell_type": "code",
   "execution_count": 411,
   "metadata": {},
   "outputs": [
    {
     "data": {
      "text/html": [
       "<div>\n",
       "<style scoped>\n",
       "    .dataframe tbody tr th:only-of-type {\n",
       "        vertical-align: middle;\n",
       "    }\n",
       "\n",
       "    .dataframe tbody tr th {\n",
       "        vertical-align: top;\n",
       "    }\n",
       "\n",
       "    .dataframe thead th {\n",
       "        text-align: right;\n",
       "    }\n",
       "</style>\n",
       "<table border=\"1\" class=\"dataframe\">\n",
       "  <thead>\n",
       "    <tr style=\"text-align: right;\">\n",
       "      <th></th>\n",
       "      <th>month</th>\n",
       "      <th>state</th>\n",
       "      <th>permit</th>\n",
       "      <th>handgun</th>\n",
       "      <th>long gun</th>\n",
       "      <th>other</th>\n",
       "      <th>multiple</th>\n",
       "      <th>background check</th>\n",
       "      <th>population</th>\n",
       "      <th>base permit</th>\n",
       "      <th>base bg-check</th>\n",
       "      <th>base population</th>\n",
       "    </tr>\n",
       "  </thead>\n",
       "  <tbody>\n",
       "    <tr>\n",
       "      <th>0</th>\n",
       "      <td>2016-07-01</td>\n",
       "      <td>California</td>\n",
       "      <td>77962.0</td>\n",
       "      <td>46361.0</td>\n",
       "      <td>47594.0</td>\n",
       "      <td>17297.0</td>\n",
       "      <td>0</td>\n",
       "      <td>190218.0</td>\n",
       "      <td>39250017.0</td>\n",
       "      <td>26930.0</td>\n",
       "      <td>80750.0</td>\n",
       "      <td>37253956.0</td>\n",
       "    </tr>\n",
       "    <tr>\n",
       "      <th>1</th>\n",
       "      <td>2010-04-01</td>\n",
       "      <td>California</td>\n",
       "      <td>26930.0</td>\n",
       "      <td>26170.0</td>\n",
       "      <td>27650.0</td>\n",
       "      <td>0.0</td>\n",
       "      <td>0</td>\n",
       "      <td>80750.0</td>\n",
       "      <td>37253956.0</td>\n",
       "      <td>26930.0</td>\n",
       "      <td>80750.0</td>\n",
       "      <td>37253956.0</td>\n",
       "    </tr>\n",
       "  </tbody>\n",
       "</table>\n",
       "</div>"
      ],
      "text/plain": [
       "       month       state   permit  handgun  long gun    other  multiple  \\\n",
       "0 2016-07-01  California  77962.0  46361.0   47594.0  17297.0         0   \n",
       "1 2010-04-01  California  26930.0  26170.0   27650.0      0.0         0   \n",
       "\n",
       "   background check  population  base permit  base bg-check  base population  \n",
       "0          190218.0  39250017.0      26930.0        80750.0       37253956.0  \n",
       "1           80750.0  37253956.0      26930.0        80750.0       37253956.0  "
      ]
     },
     "execution_count": 411,
     "metadata": {},
     "output_type": "execute_result"
    }
   ],
   "source": [
    "# Add base columns for permit, backgroud check and population to compare changes from April 2010 to July 2016\n",
    "df_merged['base permit'] = float(df_merged.loc[df_merged.month == '2010-04-01'].permit)\n",
    "df_merged['base bg-check'] = float(df_merged.loc[df_merged.month == '2010-04-01']['background check'])\n",
    "df_merged['base population'] = float(df_merged.loc[df_merged.month == '2010-04-01'].population)\n",
    "df_merged"
   ]
  },
  {
   "cell_type": "code",
   "execution_count": 412,
   "metadata": {},
   "outputs": [
    {
     "data": {
      "text/html": [
       "<div>\n",
       "<style scoped>\n",
       "    .dataframe tbody tr th:only-of-type {\n",
       "        vertical-align: middle;\n",
       "    }\n",
       "\n",
       "    .dataframe tbody tr th {\n",
       "        vertical-align: top;\n",
       "    }\n",
       "\n",
       "    .dataframe thead th {\n",
       "        text-align: right;\n",
       "    }\n",
       "</style>\n",
       "<table border=\"1\" class=\"dataframe\">\n",
       "  <thead>\n",
       "    <tr style=\"text-align: right;\">\n",
       "      <th></th>\n",
       "      <th>month</th>\n",
       "      <th>state</th>\n",
       "      <th>permit</th>\n",
       "      <th>handgun</th>\n",
       "      <th>long gun</th>\n",
       "      <th>other</th>\n",
       "      <th>multiple</th>\n",
       "      <th>background check</th>\n",
       "      <th>population</th>\n",
       "      <th>base permit</th>\n",
       "      <th>base bg-check</th>\n",
       "      <th>base population</th>\n",
       "      <th>chng permit</th>\n",
       "      <th>chng bg-check</th>\n",
       "      <th>chng population</th>\n",
       "    </tr>\n",
       "  </thead>\n",
       "  <tbody>\n",
       "    <tr>\n",
       "      <th>0</th>\n",
       "      <td>2016-07-01</td>\n",
       "      <td>California</td>\n",
       "      <td>77962.0</td>\n",
       "      <td>46361.0</td>\n",
       "      <td>47594.0</td>\n",
       "      <td>17297.0</td>\n",
       "      <td>0</td>\n",
       "      <td>190218.0</td>\n",
       "      <td>39250017.0</td>\n",
       "      <td>26930.0</td>\n",
       "      <td>80750.0</td>\n",
       "      <td>37253956.0</td>\n",
       "      <td>189.4987</td>\n",
       "      <td>135.564087</td>\n",
       "      <td>5.357984</td>\n",
       "    </tr>\n",
       "    <tr>\n",
       "      <th>1</th>\n",
       "      <td>2010-04-01</td>\n",
       "      <td>California</td>\n",
       "      <td>26930.0</td>\n",
       "      <td>26170.0</td>\n",
       "      <td>27650.0</td>\n",
       "      <td>0.0</td>\n",
       "      <td>0</td>\n",
       "      <td>80750.0</td>\n",
       "      <td>37253956.0</td>\n",
       "      <td>26930.0</td>\n",
       "      <td>80750.0</td>\n",
       "      <td>37253956.0</td>\n",
       "      <td>0.0000</td>\n",
       "      <td>0.000000</td>\n",
       "      <td>0.000000</td>\n",
       "    </tr>\n",
       "  </tbody>\n",
       "</table>\n",
       "</div>"
      ],
      "text/plain": [
       "       month       state   permit  handgun  long gun    other  multiple  \\\n",
       "0 2016-07-01  California  77962.0  46361.0   47594.0  17297.0         0   \n",
       "1 2010-04-01  California  26930.0  26170.0   27650.0      0.0         0   \n",
       "\n",
       "   background check  population  base permit  base bg-check  base population  \\\n",
       "0          190218.0  39250017.0      26930.0        80750.0       37253956.0   \n",
       "1           80750.0  37253956.0      26930.0        80750.0       37253956.0   \n",
       "\n",
       "   chng permit  chng bg-check  chng population  \n",
       "0     189.4987     135.564087         5.357984  \n",
       "1       0.0000       0.000000         0.000000  "
      ]
     },
     "execution_count": 412,
     "metadata": {},
     "output_type": "execute_result"
    }
   ],
   "source": [
    "# Calculate the percent changes\n",
    "df_merged['chng permit'] = (df_merged['permit'] - df_merged['base permit']) / df_merged['base permit'] * 100\n",
    "df_merged['chng bg-check'] = (df_merged['background check'] - df_merged['base bg-check']) / df_merged['base bg-check'] * 100\n",
    "df_merged['chng population'] = (df_merged['population'] - df_merged['base population']) / df_merged['base population'] * 100\n",
    "df_merged"
   ]
  },
  {
   "cell_type": "code",
   "execution_count": 413,
   "metadata": {},
   "outputs": [
    {
     "data": {
      "text/html": [
       "<div>\n",
       "<style scoped>\n",
       "    .dataframe tbody tr th:only-of-type {\n",
       "        vertical-align: middle;\n",
       "    }\n",
       "\n",
       "    .dataframe tbody tr th {\n",
       "        vertical-align: top;\n",
       "    }\n",
       "\n",
       "    .dataframe thead th {\n",
       "        text-align: right;\n",
       "    }\n",
       "</style>\n",
       "<table border=\"1\" class=\"dataframe\">\n",
       "  <thead>\n",
       "    <tr style=\"text-align: right;\">\n",
       "      <th></th>\n",
       "      <th>month</th>\n",
       "      <th>types</th>\n",
       "      <th>percent</th>\n",
       "    </tr>\n",
       "  </thead>\n",
       "  <tbody>\n",
       "    <tr>\n",
       "      <th>1</th>\n",
       "      <td>2010-04-01</td>\n",
       "      <td>chng permit</td>\n",
       "      <td>0.000000</td>\n",
       "    </tr>\n",
       "    <tr>\n",
       "      <th>3</th>\n",
       "      <td>2010-04-01</td>\n",
       "      <td>chng bg-check</td>\n",
       "      <td>0.000000</td>\n",
       "    </tr>\n",
       "    <tr>\n",
       "      <th>5</th>\n",
       "      <td>2010-04-01</td>\n",
       "      <td>chng population</td>\n",
       "      <td>0.000000</td>\n",
       "    </tr>\n",
       "    <tr>\n",
       "      <th>0</th>\n",
       "      <td>2016-07-01</td>\n",
       "      <td>chng permit</td>\n",
       "      <td>189.498700</td>\n",
       "    </tr>\n",
       "    <tr>\n",
       "      <th>2</th>\n",
       "      <td>2016-07-01</td>\n",
       "      <td>chng bg-check</td>\n",
       "      <td>135.564087</td>\n",
       "    </tr>\n",
       "    <tr>\n",
       "      <th>4</th>\n",
       "      <td>2016-07-01</td>\n",
       "      <td>chng population</td>\n",
       "      <td>5.357984</td>\n",
       "    </tr>\n",
       "  </tbody>\n",
       "</table>\n",
       "</div>"
      ],
      "text/plain": [
       "       month            types     percent\n",
       "1 2010-04-01      chng permit    0.000000\n",
       "3 2010-04-01    chng bg-check    0.000000\n",
       "5 2010-04-01  chng population    0.000000\n",
       "0 2016-07-01      chng permit  189.498700\n",
       "2 2016-07-01    chng bg-check  135.564087\n",
       "4 2016-07-01  chng population    5.357984"
      ]
     },
     "execution_count": 413,
     "metadata": {},
     "output_type": "execute_result"
    }
   ],
   "source": [
    "# Melt the data for plotting\n",
    "df_rel_melted = pd.melt(df_merged, id_vars=[\"month\"], value_vars=['chng permit', 'chng bg-check','chng population'],\n",
    "                        var_name='types', value_name='percent').copy(deep=True)\n",
    "df_rel_melted.sort_values(by=['month'], inplace=True)\n",
    "df_rel_melted"
   ]
  },
  {
   "cell_type": "code",
   "execution_count": 414,
   "metadata": {},
   "outputs": [
    {
     "data": {
      "image/png": "[encoded data removed]",
      "text/plain": [
       "<Figure size 864x360 with 1 Axes>"
      ]
     },
     "metadata": {
      "needs_background": "light"
     },
     "output_type": "display_data"
    }
   ],
   "source": [
    "# Plotting changes from moth April 2010 to July 2016\n",
    "titles = ['Gun Permit and Backgroun-Check in Relationship to Population Growth in California', '(Between April, 2010 and July, 2016)']\n",
    "data = df_rel_melted\n",
    "\n",
    "palette = {\n",
    "    'chng permit': 'tab:blue',\n",
    "    'chng bg-check': 'tab:green',\n",
    "    'chng population': 'tab:orange',\n",
    "}\n",
    "\n",
    "fig , ax = plt.subplots(figsize=(12,5))\n",
    "sns.barplot(data=data, y='percent', x='month', hue='types', ax=ax, palette=palette);\n",
    "\n",
    "ax.set_title(\n",
    "    '\\n'.join(titles),\n",
    "    fontsize='large',\n",
    "    loc='center',\n",
    "    fontweight='bold',\n",
    "    style='italic',\n",
    "    family='monospace')\n",
    "\n",
    "ax.set_xlabel(\n",
    "    '(April 2010 is the Base Month; change=0%)', \n",
    "    fontsize='large')\n",
    "\n",
    "ax.set_ylabel(\n",
    "    'Change Percentage (%)', \n",
    "    fontsize='large')\n",
    "\n",
    "ax.set_xticklabels(['April 2010', 'July 2016']);\n"
   ]
  },
  {
   "cell_type": "markdown",
   "metadata": {},
   "source": [
    "<center style=\"display:inline-block; padding-left:55px\"><i style=\"color: blue\">The reason for this graph is to visualize the changes between April 2010 and July 2016 in term of population,<br>gun permit, and background check. (April 2010 is the base year, therefore it's zero change).</i></center>"
   ]
  },
  {
   "cell_type": "markdown",
   "metadata": {},
   "source": [
    "## Conclusions <a id='conclusions'></a><a href=\"#toc\"><span style=\"font-size: 12px\">[TOC]</span></a>\n",
    "\n",
    "### Limitation\n",
    "There are some limitation on this analysis. Due to the census data provides only two data point for the population (April 01, 2010 and July 01, 2016). There is a big data gap between April 2010 to July 2016. Hence, the population data from April 01, 2010 is established as the base, and the percent changes is calculated between the population from July 01, 2016 and the base. \n",
    "\n",
    "### Summary"
   ]
  },
  {
   "cell_type": "markdown",
   "metadata": {},
   "source": [
    "><div style=\"font-weight:bold; color:#1976d2\">1. In California, gun permit has rapidly increased by 272.18% since 2011.</div>"
   ]
  },
  {
   "cell_type": "code",
   "execution_count": 420,
   "metadata": {},
   "outputs": [
    {
     "data": {
      "text/plain": [
       "272.1780170480036"
      ]
     },
     "execution_count": 420,
     "metadata": {},
     "output_type": "execute_result"
    }
   ],
   "source": [
    "# Calculate the change from 2011 to 2016\n",
    "permit_2011 = float(df_permit_melted[(df_permit_melted.types == 'permit') & (df_permit_melted.year == 2011)].total)\n",
    "permit_2016 = float(df_permit_melted[(df_permit_melted.types == 'permit') & (df_permit_melted.year == 2016)].total)\n",
    "change_prct = (permit_2016 - permit_2011) / permit_2011 * 100\n",
    "change_prct"
   ]
  },
  {
   "cell_type": "markdown",
   "metadata": {},
   "source": [
    "><div style=\"font-weight:bold; color:#1976d2\">2. On average, there are more permits for long gun then handgun. However, it is not consistent from year to year. In some years, there are more permits for hand gun then long gun; in other years, there are more permits for long gun then hand gun.</div>"
   ]
  },
  {
   "cell_type": "code",
   "execution_count": 421,
   "metadata": {},
   "outputs": [],
   "source": [
    "# Calculate the average for different types of guns\n",
    "mean_guns = df_guns_melted.groupby('types').total.mean()"
   ]
  },
  {
   "cell_type": "code",
   "execution_count": 417,
   "metadata": {},
   "outputs": [
    {
     "data": {
      "image/png": "[encoded data removed]",
      "text/plain": [
       "<Figure size 432x288 with 1 Axes>"
      ]
     },
     "metadata": {
      "needs_background": "light"
     },
     "output_type": "display_data"
    }
   ],
   "source": [
    "# Plotting the average of difference types of gun\n",
    "mean_guns.plot(kind='bar');\n",
    "plt.title('Average Permit For Difference Types of Guns');\n",
    "plt.ylabel('Average Permit');\n",
    "plt.xlabel('Types of Gun');"
   ]
  },
  {
   "cell_type": "markdown",
   "metadata": {},
   "source": [
    "<div style=\"display:inline-block; padding-left:55px \"><center><i style=\"color: blue\">The reason for this graph is to visualize which<br>\n",
    "    type of guns is more popular on average over the 17 years.</i></center></div>"
   ]
  },
  {
   "cell_type": "markdown",
   "metadata": {},
   "source": [
    "><div style=\"font-weight:bold; color:#1976d2\">3. There is no strong evidence showing the growth of population in California caused the growth of gun permit. Between April 01, 2010 and July 01, 2016, while California population only increased by 5.38%, California gun permit increased by 189.50%</div"
   ]
  },
  {
   "cell_type": "code",
   "execution_count": 418,
   "metadata": {},
   "outputs": [
    {
     "data": {
      "text/html": [
       "<div>\n",
       "<style scoped>\n",
       "    .dataframe tbody tr th:only-of-type {\n",
       "        vertical-align: middle;\n",
       "    }\n",
       "\n",
       "    .dataframe tbody tr th {\n",
       "        vertical-align: top;\n",
       "    }\n",
       "\n",
       "    .dataframe thead th {\n",
       "        text-align: right;\n",
       "    }\n",
       "</style>\n",
       "<table border=\"1\" class=\"dataframe\">\n",
       "  <thead>\n",
       "    <tr style=\"text-align: right;\">\n",
       "      <th></th>\n",
       "      <th>month</th>\n",
       "      <th>types</th>\n",
       "      <th>percent</th>\n",
       "    </tr>\n",
       "  </thead>\n",
       "  <tbody>\n",
       "    <tr>\n",
       "      <th>0</th>\n",
       "      <td>2016-07-01</td>\n",
       "      <td>chng permit</td>\n",
       "      <td>189.498700</td>\n",
       "    </tr>\n",
       "    <tr>\n",
       "      <th>2</th>\n",
       "      <td>2016-07-01</td>\n",
       "      <td>chng bg-check</td>\n",
       "      <td>135.564087</td>\n",
       "    </tr>\n",
       "    <tr>\n",
       "      <th>4</th>\n",
       "      <td>2016-07-01</td>\n",
       "      <td>chng population</td>\n",
       "      <td>5.357984</td>\n",
       "    </tr>\n",
       "  </tbody>\n",
       "</table>\n",
       "</div>"
      ],
      "text/plain": [
       "       month            types     percent\n",
       "0 2016-07-01      chng permit  189.498700\n",
       "2 2016-07-01    chng bg-check  135.564087\n",
       "4 2016-07-01  chng population    5.357984"
      ]
     },
     "execution_count": 418,
     "metadata": {},
     "output_type": "execute_result"
    }
   ],
   "source": [
    "chngs = df_rel_melted[df_rel_melted.month == '2016-07-01']"
   ]
  },
  {
   "cell_type": "code",
   "execution_count": 419,
   "metadata": {},
   "outputs": [
    {
     "data": {
      "image/png": "[encoded data removed]",
      "text/plain": [
       "<Figure size 864x360 with 1 Axes>"
      ]
     },
     "metadata": {
      "needs_background": "light"
     },
     "output_type": "display_data"
    }
   ],
   "source": [
    "# Plotting changes from moth April 2010 to July 2016\n",
    "titles = ['Gun Permit and Backgroun-Check in Relationship to Population Growth in California', '(Between April, 2010 and July, 2016)']\n",
    "data = df_rel_melted\n",
    "\n",
    "palette = {\n",
    "    'chng permit': 'tab:blue',\n",
    "    'chng bg-check': 'tab:green',\n",
    "    'chng population': 'tab:orange',\n",
    "}\n",
    "\n",
    "fig , ax = plt.subplots(figsize=(12,5))\n",
    "sns.barplot(data=data, y='percent', x='month', hue='types', ax=ax, palette=palette);\n",
    "\n",
    "ax.set_title(\n",
    "    '\\n'.join(titles),\n",
    "    fontsize='large',\n",
    "    loc='center',\n",
    "    fontweight='bold',\n",
    "    style='italic',\n",
    "    family='monospace')\n",
    "\n",
    "ax.set_xlabel(\n",
    "    '(April 2010 is the Base Month; change=0%)', \n",
    "    fontsize='large')\n",
    "\n",
    "ax.set_ylabel(\n",
    "    'Change Percentage (%)', \n",
    "    fontsize='large')\n",
    "\n",
    "ax.set_xticklabels(['April 2010', 'July 2016']);"
   ]
  },
  {
   "cell_type": "markdown",
   "metadata": {},
   "source": [
    "<div style=\"display:inline-block; padding-left:55px \"><center><i style=\"color: blue\">The reason for this graph is to visualize the changes between April 2010 and July 2016 in term of population,<br>gun permit, and background check. (April 2010 is the base year, therefore it's zero change).<br><br>\n",
    "The correlation between the growth of population and the growth of gun permit is not that strong.</i></center></div>"
   ]
  },
  {
   "cell_type": "markdown",
   "metadata": {},
   "source": [
    "## Resources <a id='resources'></a><a href=\"#toc\"><span style=\"font-size: 12px\">[TOC]</span></a>"
   ]
  },
  {
   "cell_type": "markdown",
   "metadata": {},
   "source": [
    "1. [Panda Doc](https://pandas.pydata.org/pandas-docs/stable/reference/api/pandas.DataFrame.set_index.html)\n",
    "2. [Seaborn Doc](https://seaborn.pydata.org/index.html)\n",
    "3. [Matplotlib Doc](https://matplotlib.org/stable/plot_types/index.html)\n",
    "4. [dev2qa.com](https://www.dev2qa.com/tag/python-pandas/)\n",
    "5. [thoughtco](https://www.thoughtco.com/how-to-make-a-histogram-3126230)\n",
    "6. [geeksforgeeks](https://www.geeksforgeeks.org/how-to-set-a-single-main-title-for-all-the-subplots-in-matplotlib/#:~:text=A%20title%20in%20matplotlib%20library%20describes%20the%20main,for%20all%20subplots%2C%20suptitle%20%28%29%20method%20is%20used.)\n",
    "7. [stackoverflow](https://stackoverflow.com/)\n",
    "8. [statology](https://www.statology.org/)"
   ]
  },
  {
   "cell_type": "code",
   "execution_count": null,
   "metadata": {},
   "outputs": [],
   "source": []
  }
 ],
 "metadata": {
  "kernelspec": {
   "display_name": "Python 3 (ipykernel)",
   "language": "python",
   "name": "python3"
  },
  "language_info": {
   "codemirror_mode": {
    "name": "ipython",
    "version": 3
   },
   "file_extension": ".py",
   "mimetype": "text/x-python",
   "name": "python",
   "nbconvert_exporter": "python",
   "pygments_lexer": "ipython3",
   "version": "3.10.4"
  }
 },
 "nbformat": 4,
 "nbformat_minor": 2
}
